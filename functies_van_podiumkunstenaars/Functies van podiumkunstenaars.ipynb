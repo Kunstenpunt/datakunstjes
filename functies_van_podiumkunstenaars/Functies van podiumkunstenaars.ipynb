{
 "cells": [
  {
   "cell_type": "markdown",
   "metadata": {},
   "source": [
    "# Functies van podiumkunstenaars\n",
    "\n",
    "Welke rollen nemen podiumkunstenaars op in hun producties? Een eerste blik op de rollen op basis van producties sinds 2010."
   ]
  },
  {
   "cell_type": "markdown",
   "metadata": {},
   "source": [
    "Eerst een aantal libraries om de data op te halen en te verwerken."
   ]
  },
  {
   "cell_type": "code",
   "execution_count": 23,
   "metadata": {
    "collapsed": true
   },
   "outputs": [],
   "source": [
    "import psycopg2\n",
    "from configparser import ConfigParser\n",
    "from pandas import DataFrame\n",
    "from collections import Counter"
   ]
  },
  {
   "cell_type": "markdown",
   "metadata": {},
   "source": [
    "We moeten verbinding maken met de databank."
   ]
  },
  {
   "cell_type": "code",
   "execution_count": 16,
   "metadata": {
    "collapsed": false
   },
   "outputs": [],
   "source": [
    "cfg = ConfigParser()\n",
    "cfg.read(\"db.cfg\")\n",
    "knst = psycopg2.connect(host=cfg['db']['host'], port=cfg['db']['port'],\n",
    "                        database=cfg['db']['db'], user=cfg['db']['user'],\n",
    "                        password=cfg['db']['pwd'])\n",
    "knst.set_client_encoding('UTF-8')\n",
    "cur = knst.cursor()"
   ]
  },
  {
   "cell_type": "markdown",
   "metadata": {},
   "source": [
    "De SQL om de gegevens op te halen is niet zo moeilijk:"
   ]
  },
  {
   "cell_type": "code",
   "execution_count": 19,
   "metadata": {
    "collapsed": true
   },
   "outputs": [],
   "source": [
    "sql = \"\"\"\n",
    "SELECT pr.id, f.name_nl, pe.full_name\n",
    "FROM production.productions pr\n",
    "JOIN production.seasons s\n",
    "ON pr.season_id = s.id\n",
    "JOIN production.relationships r\n",
    "ON pr.id = r.production_id\n",
    "JOIN production.people pe\n",
    "ON r.person_id = pe.id\n",
    "JOIN production.functions f\n",
    "ON r.function_id = f.id\n",
    "WHERE s.start_year >= 2010\n",
    "\"\"\""
   ]
  },
  {
   "cell_type": "markdown",
   "metadata": {},
   "source": [
    "Even de gegevens binnenhalen en in een pandas dataframe stoppen."
   ]
  },
  {
   "cell_type": "code",
   "execution_count": 22,
   "metadata": {
    "collapsed": false
   },
   "outputs": [],
   "source": [
    "cur.execute(sql)\n",
    "os = cur.fetchall()\n",
    "df = DataFrame([o for o in os], columns=[\"productie_id\", \"functie\", \"persoon\"])"
   ]
  },
  {
   "cell_type": "markdown",
   "metadata": {},
   "source": [
    "Een kleine functie om de functies van een persoon op te halen en het totaal."
   ]
  },
  {
   "cell_type": "code",
   "execution_count": 30,
   "metadata": {
    "collapsed": true
   },
   "outputs": [],
   "source": [
    "def get_counted_functions_for_person(persoon):\n",
    "    functies = Counter(df[df[\"persoon\"] == persoon][\"functie\"]).most_common()\n",
    "    totaal_aantal_functies = sum([f[1] for f in functies])\n",
    "    functies_percentage = [(f[0], f[1] / float(totaal_aantal_functies)) for f in functies]\n",
    "    return functies_percentage, totaal_aantal_functies"
   ]
  },
  {
   "cell_type": "markdown",
   "metadata": {},
   "source": [
    "Loopen doorheen alle personen."
   ]
  },
  {
   "cell_type": "code",
   "execution_count": 38,
   "metadata": {
    "collapsed": false
   },
   "outputs": [],
   "source": [
    "lines = []\n",
    "for persoon in set(df[\"persoon\"].values):\n",
    "    functies, totaal = get_counted_functions_for_person(persoon)\n",
    "    for f in functies:\n",
    "        lijn = [persoon, totaal, f[0], f[1]]\n",
    "        lines.append(lijn)\n",
    "df_functies = DataFrame(lines, columns=[\"persoon\", \"totaal aantal functies\", \"functie\", \"percentage\"])"
   ]
  },
  {
   "cell_type": "markdown",
   "metadata": {},
   "source": [
    "Het resultaat ziet er als volgt uit:"
   ]
  },
  {
   "cell_type": "code",
   "execution_count": 39,
   "metadata": {
    "collapsed": false
   },
   "outputs": [
    {
     "data": {
      "text/html": [
       "<div>\n",
       "<table border=\"1\" class=\"dataframe\">\n",
       "  <thead>\n",
       "    <tr style=\"text-align: right;\">\n",
       "      <th></th>\n",
       "      <th>persoon</th>\n",
       "      <th>totaal aantal functies</th>\n",
       "      <th>functie</th>\n",
       "      <th>percentage</th>\n",
       "    </tr>\n",
       "  </thead>\n",
       "  <tbody>\n",
       "    <tr>\n",
       "      <th>0</th>\n",
       "      <td>Gloria Biney</td>\n",
       "      <td>2</td>\n",
       "      <td>spel</td>\n",
       "      <td>1.00</td>\n",
       "    </tr>\n",
       "    <tr>\n",
       "      <th>1</th>\n",
       "      <td>Tina Heylen</td>\n",
       "      <td>25</td>\n",
       "      <td>van en met</td>\n",
       "      <td>0.52</td>\n",
       "    </tr>\n",
       "    <tr>\n",
       "      <th>2</th>\n",
       "      <td>Tina Heylen</td>\n",
       "      <td>25</td>\n",
       "      <td>kostuumontwerp</td>\n",
       "      <td>0.20</td>\n",
       "    </tr>\n",
       "    <tr>\n",
       "      <th>3</th>\n",
       "      <td>Tina Heylen</td>\n",
       "      <td>25</td>\n",
       "      <td>vormgeving</td>\n",
       "      <td>0.08</td>\n",
       "    </tr>\n",
       "    <tr>\n",
       "      <th>4</th>\n",
       "      <td>Tina Heylen</td>\n",
       "      <td>25</td>\n",
       "      <td>spel</td>\n",
       "      <td>0.08</td>\n",
       "    </tr>\n",
       "  </tbody>\n",
       "</table>\n",
       "</div>"
      ],
      "text/plain": [
       "        persoon  totaal aantal functies         functie  percentage\n",
       "0  Gloria Biney                       2            spel        1.00\n",
       "1   Tina Heylen                      25      van en met        0.52\n",
       "2   Tina Heylen                      25  kostuumontwerp        0.20\n",
       "3   Tina Heylen                      25      vormgeving        0.08\n",
       "4   Tina Heylen                      25            spel        0.08"
      ]
     },
     "execution_count": 39,
     "metadata": {},
     "output_type": "execute_result"
    }
   ],
   "source": [
    "df_functies.head()"
   ]
  },
  {
   "cell_type": "markdown",
   "metadata": {},
   "source": [
    "Als voorbeeld even de persoon met het meeste aantal functies."
   ]
  },
  {
   "cell_type": "code",
   "execution_count": 40,
   "metadata": {
    "collapsed": false
   },
   "outputs": [
    {
     "data": {
      "text/html": [
       "<div>\n",
       "<table border=\"1\" class=\"dataframe\">\n",
       "  <thead>\n",
       "    <tr style=\"text-align: right;\">\n",
       "      <th></th>\n",
       "      <th>persoon</th>\n",
       "      <th>totaal aantal functies</th>\n",
       "      <th>functie</th>\n",
       "      <th>percentage</th>\n",
       "    </tr>\n",
       "  </thead>\n",
       "  <tbody>\n",
       "    <tr>\n",
       "      <th>12129</th>\n",
       "      <td>Anne Teresa De Keersmaeker</td>\n",
       "      <td>136</td>\n",
       "      <td>choreografie</td>\n",
       "      <td>0.485294</td>\n",
       "    </tr>\n",
       "    <tr>\n",
       "      <th>12130</th>\n",
       "      <td>Anne Teresa De Keersmaeker</td>\n",
       "      <td>136</td>\n",
       "      <td>dans</td>\n",
       "      <td>0.191176</td>\n",
       "    </tr>\n",
       "    <tr>\n",
       "      <th>12131</th>\n",
       "      <td>Anne Teresa De Keersmaeker</td>\n",
       "      <td>136</td>\n",
       "      <td>lichtontwerp</td>\n",
       "      <td>0.095588</td>\n",
       "    </tr>\n",
       "    <tr>\n",
       "      <th>12132</th>\n",
       "      <td>Anne Teresa De Keersmaeker</td>\n",
       "      <td>136</td>\n",
       "      <td>concept</td>\n",
       "      <td>0.080882</td>\n",
       "    </tr>\n",
       "    <tr>\n",
       "      <th>12133</th>\n",
       "      <td>Anne Teresa De Keersmaeker</td>\n",
       "      <td>136</td>\n",
       "      <td>creatie</td>\n",
       "      <td>0.036765</td>\n",
       "    </tr>\n",
       "    <tr>\n",
       "      <th>12134</th>\n",
       "      <td>Anne Teresa De Keersmaeker</td>\n",
       "      <td>136</td>\n",
       "      <td>decorontwerp</td>\n",
       "      <td>0.036765</td>\n",
       "    </tr>\n",
       "    <tr>\n",
       "      <th>12135</th>\n",
       "      <td>Anne Teresa De Keersmaeker</td>\n",
       "      <td>136</td>\n",
       "      <td>regie</td>\n",
       "      <td>0.022059</td>\n",
       "    </tr>\n",
       "    <tr>\n",
       "      <th>12136</th>\n",
       "      <td>Anne Teresa De Keersmaeker</td>\n",
       "      <td>136</td>\n",
       "      <td>met</td>\n",
       "      <td>0.022059</td>\n",
       "    </tr>\n",
       "    <tr>\n",
       "      <th>12137</th>\n",
       "      <td>Anne Teresa De Keersmaeker</td>\n",
       "      <td>136</td>\n",
       "      <td>van</td>\n",
       "      <td>0.007353</td>\n",
       "    </tr>\n",
       "    <tr>\n",
       "      <th>12138</th>\n",
       "      <td>Anne Teresa De Keersmaeker</td>\n",
       "      <td>136</td>\n",
       "      <td>van en met</td>\n",
       "      <td>0.007353</td>\n",
       "    </tr>\n",
       "    <tr>\n",
       "      <th>12139</th>\n",
       "      <td>Anne Teresa De Keersmaeker</td>\n",
       "      <td>136</td>\n",
       "      <td>kostuumontwerp</td>\n",
       "      <td>0.007353</td>\n",
       "    </tr>\n",
       "    <tr>\n",
       "      <th>12140</th>\n",
       "      <td>Anne Teresa De Keersmaeker</td>\n",
       "      <td>136</td>\n",
       "      <td>creatie &amp; dans</td>\n",
       "      <td>0.007353</td>\n",
       "    </tr>\n",
       "  </tbody>\n",
       "</table>\n",
       "</div>"
      ],
      "text/plain": [
       "                          persoon  totaal aantal functies         functie  \\\n",
       "12129  Anne Teresa De Keersmaeker                     136    choreografie   \n",
       "12130  Anne Teresa De Keersmaeker                     136            dans   \n",
       "12131  Anne Teresa De Keersmaeker                     136    lichtontwerp   \n",
       "12132  Anne Teresa De Keersmaeker                     136         concept   \n",
       "12133  Anne Teresa De Keersmaeker                     136         creatie   \n",
       "12134  Anne Teresa De Keersmaeker                     136    decorontwerp   \n",
       "12135  Anne Teresa De Keersmaeker                     136           regie   \n",
       "12136  Anne Teresa De Keersmaeker                     136             met   \n",
       "12137  Anne Teresa De Keersmaeker                     136             van   \n",
       "12138  Anne Teresa De Keersmaeker                     136      van en met   \n",
       "12139  Anne Teresa De Keersmaeker                     136  kostuumontwerp   \n",
       "12140  Anne Teresa De Keersmaeker                     136  creatie & dans   \n",
       "\n",
       "       percentage  \n",
       "12129    0.485294  \n",
       "12130    0.191176  \n",
       "12131    0.095588  \n",
       "12132    0.080882  \n",
       "12133    0.036765  \n",
       "12134    0.036765  \n",
       "12135    0.022059  \n",
       "12136    0.022059  \n",
       "12137    0.007353  \n",
       "12138    0.007353  \n",
       "12139    0.007353  \n",
       "12140    0.007353  "
      ]
     },
     "execution_count": 40,
     "metadata": {},
     "output_type": "execute_result"
    }
   ],
   "source": [
    "df_functies[df_functies[\"totaal aantal functies\"] == max(df_functies[\"totaal aantal functies\"])]"
   ]
  },
  {
   "cell_type": "markdown",
   "metadata": {},
   "source": [
    "Zelf verder analyseren? Download de excel file:"
   ]
  },
  {
   "cell_type": "code",
   "execution_count": 41,
   "metadata": {
    "collapsed": true
   },
   "outputs": [],
   "source": [
    "df_functies.to_excel(\"functies.xlsx\")"
   ]
  }
 ],
 "metadata": {
  "kernelspec": {
   "display_name": "Python 3",
   "language": "python",
   "name": "python3"
  },
  "language_info": {
   "codemirror_mode": {
    "name": "ipython",
    "version": 3
   },
   "file_extension": ".py",
   "mimetype": "text/x-python",
   "name": "python",
   "nbconvert_exporter": "python",
   "pygments_lexer": "ipython3",
   "version": "3.5.2"
  }
 },
 "nbformat": 4,
 "nbformat_minor": 1
}
