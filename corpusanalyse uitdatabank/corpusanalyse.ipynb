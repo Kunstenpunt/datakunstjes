{
 "cells": [
  {
   "cell_type": "markdown",
   "metadata": {},
   "source": [
    "# Corpusanalyse UiTdatabank\n",
    "\n",
    "We hebben de volgende bibliotheken nodig:"
   ]
  },
  {
   "cell_type": "code",
   "execution_count": 1,
   "metadata": {
    "collapsed": false
   },
   "outputs": [],
   "source": [
    "from pandas import read_excel, read_csv, DataFrame\n",
    "from datetime import datetime\n",
    "from codecs import open"
   ]
  },
  {
   "cell_type": "markdown",
   "metadata": {},
   "source": [
    "Dan lezen we lezen de gegevens in, die we inperken tot 2014."
   ]
  },
  {
   "cell_type": "code",
   "execution_count": 2,
   "metadata": {
    "collapsed": false
   },
   "outputs": [],
   "source": [
    "df = read_excel(\"gegevens.xlsx\", sheetname='theaterdans1014')\n",
    "df = df[df[\"Datum tot\"].between(datetime(2014, 1, 1), datetime(2014, 12, 31))]"
   ]
  },
  {
   "cell_type": "markdown",
   "metadata": {},
   "source": [
    "We kunnen kort inspecteren hoe deze data eruitzien."
   ]
  },
  {
   "cell_type": "code",
   "execution_count": 3,
   "metadata": {
    "collapsed": false
   },
   "outputs": [
    {
     "data": {
      "text/html": [
       "<div>\n",
       "<table border=\"1\" class=\"dataframe\">\n",
       "  <thead>\n",
       "    <tr style=\"text-align: right;\">\n",
       "      <th></th>\n",
       "      <th>Id</th>\n",
       "      <th>tekst</th>\n",
       "      <th>Gemeente</th>\n",
       "      <th>Datum tot</th>\n",
       "    </tr>\n",
       "  </thead>\n",
       "  <tbody>\n",
       "    <tr>\n",
       "      <th>747</th>\n",
       "      <td>17915</td>\n",
       "      <td>Shen Yun brengt 5.000 jaar Chinese beschaving ...</td>\n",
       "      <td>Brussel</td>\n",
       "      <td>2014-04-02</td>\n",
       "    </tr>\n",
       "    <tr>\n",
       "      <th>748</th>\n",
       "      <td>17915</td>\n",
       "      <td>Shen Yun brengt 5.000 jaar Chinese beschaving ...</td>\n",
       "      <td>Brussel</td>\n",
       "      <td>2014-04-03</td>\n",
       "    </tr>\n",
       "    <tr>\n",
       "      <th>749</th>\n",
       "      <td>17915</td>\n",
       "      <td>Shen Yun brengt 5.000 jaar Chinese beschaving ...</td>\n",
       "      <td>Brussel</td>\n",
       "      <td>2014-04-04</td>\n",
       "    </tr>\n",
       "    <tr>\n",
       "      <th>750</th>\n",
       "      <td>17915</td>\n",
       "      <td>Shen Yun brengt 5.000 jaar Chinese beschaving ...</td>\n",
       "      <td>Brussel</td>\n",
       "      <td>2014-04-05</td>\n",
       "    </tr>\n",
       "    <tr>\n",
       "      <th>751</th>\n",
       "      <td>17915</td>\n",
       "      <td>Shen Yun brengt 5.000 jaar Chinese beschaving ...</td>\n",
       "      <td>Brussel</td>\n",
       "      <td>2014-04-05</td>\n",
       "    </tr>\n",
       "  </tbody>\n",
       "</table>\n",
       "</div>"
      ],
      "text/plain": [
       "        Id                                              tekst Gemeente  \\\n",
       "747  17915  Shen Yun brengt 5.000 jaar Chinese beschaving ...  Brussel   \n",
       "748  17915  Shen Yun brengt 5.000 jaar Chinese beschaving ...  Brussel   \n",
       "749  17915  Shen Yun brengt 5.000 jaar Chinese beschaving ...  Brussel   \n",
       "750  17915  Shen Yun brengt 5.000 jaar Chinese beschaving ...  Brussel   \n",
       "751  17915  Shen Yun brengt 5.000 jaar Chinese beschaving ...  Brussel   \n",
       "\n",
       "     Datum tot  \n",
       "747 2014-04-02  \n",
       "748 2014-04-03  \n",
       "749 2014-04-04  \n",
       "750 2014-04-05  \n",
       "751 2014-04-05  "
      ]
     },
     "execution_count": 3,
     "metadata": {},
     "output_type": "execute_result"
    }
   ],
   "source": [
    "df.head()"
   ]
  },
  {
   "cell_type": "markdown",
   "metadata": {},
   "source": [
    "We zien dat elke lijn een event beschrijving bevat, de plaats waar een event plaatsvindt, en ook de datum. Merk op dat events die op meerdere dagen plaatsvinden een aparte lijn krijgen. We zullen hiermee rekening houden in de interpretatie van de resultaten."
   ]
  },
  {
   "cell_type": "markdown",
   "metadata": {},
   "source": [
    "Voor onze analyse hebben we ook nood aan een lijst van namen van landen, coordinaten voor de plaatsnamen, en ook een manueel gemaakte mapping om de plaatsnamen in de UiTdatabank gegevens te normaliseren."
   ]
  },
  {
   "cell_type": "code",
   "execution_count": 4,
   "metadata": {
    "collapsed": false
   },
   "outputs": [],
   "source": [
    "with open(\"landen.txt\", \"r\", \"utf-8\") as f:\n",
    "    landnamen = f.readlines()\n",
    "    landnamen = [n.strip() for n in landnamen]\n",
    "typering = read_csv(\"typeerpostcode.csv\", delimiter=';')\n",
    "coord = read_csv(\"coordinaten.csv\", delimiter=';')"
   ]
  },
  {
   "cell_type": "markdown",
   "metadata": {},
   "source": [
    "Nu gaan we voor ieder event in de UiTdatabankgegevens na welk land er vermeld wordt in de beschrijving van dat event. We houden ook al onmiddellijk bij wat de genormaliseerde naam is van de gemeente en de coordinaten van het centrum."
   ]
  },
  {
   "cell_type": "code",
   "execution_count": 5,
   "metadata": {
    "collapsed": false
   },
   "outputs": [],
   "source": [
    "data = {}\n",
    "for i in df.index:\n",
    "    tekst = df[\"tekst\"][i]\n",
    "    gemeente = df[\"Gemeente\"][i]\n",
    "    for landnaam in landnamen:\n",
    "        if landnaam in tekst:\n",
    "            typeringlijn = typering[typering[\"Gemeente Origineel\"] == gemeente]\n",
    "            fusiegemeente = typeringlijn[\"Fusiegemeente\"].values[0]\n",
    "            provincie = typeringlijn[\"Province (English)\"].values[0]\n",
    "            lat = coord[coord[\"Fusiegemeente\"] == fusiegemeente][\"latitude\"].values[0]\n",
    "            lon = coord[coord[\"Fusiegemeente\"] == fusiegemeente][\"longitude\"].values[0]\n",
    "\n",
    "            if fusiegemeente not in data:\n",
    "                data[fusiegemeente] = {\"latitude\": float(lat.replace(',', '.')),\n",
    "                                       \"longitude\": float(lon.replace(',', '.')),\n",
    "                                       \"provincie\": provincie,\n",
    "                                       \"landen\": {}\n",
    "                                       }\n",
    "\n",
    "            if landnaam not in data[fusiegemeente][\"landen\"]:\n",
    "                data[fusiegemeente][\"landen\"][landnaam] = 0\n",
    "            data[fusiegemeente][\"landen\"][landnaam] += 1"
   ]
  },
  {
   "cell_type": "markdown",
   "metadata": {},
   "source": [
    "We kunnen nu deze gegevens samenballen in een tabel:"
   ]
  },
  {
   "cell_type": "code",
   "execution_count": 6,
   "metadata": {
    "collapsed": false
   },
   "outputs": [],
   "source": [
    "lines = []\n",
    "for fusiegemeente in data:\n",
    "    for land in data[fusiegemeente][\"landen\"]:\n",
    "        lines.append([fusiegemeente,\n",
    "                      float(data[fusiegemeente][\"latitude\"]),\n",
    "                      float(data[fusiegemeente][\"longitude\"]),\n",
    "                      land,\n",
    "                      data[fusiegemeente][\"landen\"][land]\n",
    "                     ])\n",
    "res = DataFrame(lines, columns=['Gemeente', 'Latitude', 'Longitude', 'Vermeld land', 'Frequentie'])"
   ]
  },
  {
   "cell_type": "markdown",
   "metadata": {},
   "source": [
    "De tabel bevat dus de volgende informatie:"
   ]
  },
  {
   "cell_type": "code",
   "execution_count": 7,
   "metadata": {
    "collapsed": false
   },
   "outputs": [
    {
     "data": {
      "text/html": [
       "<div>\n",
       "<table border=\"1\" class=\"dataframe\">\n",
       "  <thead>\n",
       "    <tr style=\"text-align: right;\">\n",
       "      <th></th>\n",
       "      <th>Gemeente</th>\n",
       "      <th>Latitude</th>\n",
       "      <th>Longitude</th>\n",
       "      <th>Vermeld land</th>\n",
       "      <th>Frequentie</th>\n",
       "    </tr>\n",
       "  </thead>\n",
       "  <tbody>\n",
       "    <tr>\n",
       "      <th>0</th>\n",
       "      <td>Brasschaat</td>\n",
       "      <td>51.292270</td>\n",
       "      <td>4.494190</td>\n",
       "      <td>Nederland</td>\n",
       "      <td>3</td>\n",
       "    </tr>\n",
       "    <tr>\n",
       "      <th>1</th>\n",
       "      <td>Brasschaat</td>\n",
       "      <td>51.292270</td>\n",
       "      <td>4.494190</td>\n",
       "      <td>Mexico</td>\n",
       "      <td>1</td>\n",
       "    </tr>\n",
       "    <tr>\n",
       "      <th>2</th>\n",
       "      <td>Brasschaat</td>\n",
       "      <td>51.292270</td>\n",
       "      <td>4.494190</td>\n",
       "      <td>Kroatië</td>\n",
       "      <td>1</td>\n",
       "    </tr>\n",
       "    <tr>\n",
       "      <th>3</th>\n",
       "      <td>Brasschaat</td>\n",
       "      <td>51.292270</td>\n",
       "      <td>4.494190</td>\n",
       "      <td>Frankrijk</td>\n",
       "      <td>1</td>\n",
       "    </tr>\n",
       "    <tr>\n",
       "      <th>4</th>\n",
       "      <td>Erpe-Mere</td>\n",
       "      <td>50.914137</td>\n",
       "      <td>3.956833</td>\n",
       "      <td>Nederland</td>\n",
       "      <td>5</td>\n",
       "    </tr>\n",
       "  </tbody>\n",
       "</table>\n",
       "</div>"
      ],
      "text/plain": [
       "     Gemeente   Latitude  Longitude Vermeld land  Frequentie\n",
       "0  Brasschaat  51.292270   4.494190    Nederland           3\n",
       "1  Brasschaat  51.292270   4.494190       Mexico           1\n",
       "2  Brasschaat  51.292270   4.494190      Kroatië           1\n",
       "3  Brasschaat  51.292270   4.494190    Frankrijk           1\n",
       "4   Erpe-Mere  50.914137   3.956833    Nederland           5"
      ]
     },
     "execution_count": 7,
     "metadata": {},
     "output_type": "execute_result"
    }
   ],
   "source": [
    "res.head()"
   ]
  },
  {
   "cell_type": "markdown",
   "metadata": {},
   "source": [
    "Als voorbeeld kan de eerste lijn gelezen worden als \"in de gemeente Denderleeuw (coordinaten 50.88, 4.07) wordt India 1 keer vermeld\".\n",
    "\n",
    "We schrijven tot slot deze tabel uit naar een CSV bestand voor verdere analyse."
   ]
  },
  {
   "cell_type": "code",
   "execution_count": 8,
   "metadata": {
    "collapsed": true
   },
   "outputs": [],
   "source": [
    "res.to_csv(\"landsvermeldingen.csv\")"
   ]
  }
 ],
 "metadata": {
  "kernelspec": {
   "display_name": "Python 3",
   "language": "python",
   "name": "python3"
  },
  "language_info": {
   "codemirror_mode": {
    "name": "ipython",
    "version": 3
   },
   "file_extension": ".py",
   "mimetype": "text/x-python",
   "name": "python",
   "nbconvert_exporter": "python",
   "pygments_lexer": "ipython3",
   "version": "3.5.2"
  }
 },
 "nbformat": 4,
 "nbformat_minor": 0
}
