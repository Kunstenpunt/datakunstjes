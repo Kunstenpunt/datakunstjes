{
 "cells": [
  {
   "cell_type": "markdown",
   "metadata": {},
   "source": [
    "# Corpusanalyse UiTdatabank\n",
    "\n",
    "We hebben de volgende bibliotheken nodig:"
   ]
  },
  {
   "cell_type": "code",
   "execution_count": 1,
   "metadata": {
    "collapsed": false
   },
   "outputs": [],
   "source": [
    "from pandas import read_excel, read_csv, DataFrame, Series, concat\n",
    "from datetime import datetime\n",
    "from codecs import open\n",
    "from re import compile\n",
    "from json import dumps\n",
    "from datetime import datetime\n",
    "from random import sample\n",
    "from collections import Counter"
   ]
  },
  {
   "cell_type": "markdown",
   "metadata": {},
   "source": [
    "Dan lezen we lezen de gegevens in"
   ]
  },
  {
   "cell_type": "code",
   "execution_count": 2,
   "metadata": {
    "collapsed": false
   },
   "outputs": [],
   "source": [
    "df_podium = read_excel(\"ruwe data/podium.xlsx\", sheetname='theaterdans1014')\n",
    "df_bk = read_excel(\"ruwe data/beeldendekunsten.xlsx\", sheetname='UitRapport')\n",
    "df_muziek = read_excel(\"ruwe data/muziek.xlsx\", sheetname='Int nat reg')\n",
    "df_podium[\"Organisator\"] = df_podium[\"Typologie organisator\"]"
   ]
  },
  {
   "cell_type": "markdown",
   "metadata": {},
   "source": [
    "## Samenbrengen en voorbereiden van de data"
   ]
  },
  {
   "cell_type": "markdown",
   "metadata": {},
   "source": [
    "Voor de muziekgegevens moeten we nog controleren dat concerten eventuele herhalingen hebben, door in de speelmomenten kolom na te gaan wat de speelmomenten zijn. Dit is niet nodig bij de beeldende kunsten, aangezien daar de unit of analysis de tentoonstelling is, onafhankelijk van hoelang die tentoonstelling loopt. Bij podiumkunsten zijn de speelmomenten manueel gecheckt, ocharme simon."
   ]
  },
  {
   "cell_type": "code",
   "execution_count": 3,
   "metadata": {
    "collapsed": false
   },
   "outputs": [],
   "source": [
    "datumregex = compile(r\"\\d\\d/\\d\\d/\\d\\d\")\n",
    "df_muziek_expanded = df_muziek.copy()\n",
    "for row in df_muziek_expanded.iterrows():\n",
    "    speelmomenten = row[1][\"Speelmomenten\"]\n",
    "    if str(speelmomenten) != \"nan\":    \n",
    "        for speelmoment in datumregex.findall(speelmomenten):\n",
    "            speelmoment_dt = datetime(int(\"20\" + speelmoment.split(\"/\")[2]), \n",
    "                                      int(speelmoment.split(\"/\")[1]), \n",
    "                                      int(speelmoment.split(\"/\")[0]))\n",
    "            if speelmoment_dt != row[1][\"Datum\"]:\n",
    "                df_muziek_expanded = df_muziek_expanded.append(\n",
    "                    Series(\n",
    "                        {\"Discipline\": row[1][\"Discipline\"],\n",
    "                         \"Subdiscipline\": row[1][\"Subdiscipline\"],\n",
    "                         \"Tekst\": row[1][\"Tekst\"],\n",
    "                         \"Datum\": speelmoment_dt,\n",
    "                         \"Gemeente\": row[1][\"Gemeente\"]\n",
    "                        }, name=speelmoment_dt.isoformat() + \" \" + str(row[0])\n",
    "                    )\n",
    "                )"
   ]
  },
  {
   "cell_type": "markdown",
   "metadata": {},
   "source": [
    "Voor de tentoonstellingen moeten we ook nog inperken op thema, en ook de permanente tentoonstellingen eruit zwieren."
   ]
  },
  {
   "cell_type": "code",
   "execution_count": 4,
   "metadata": {
    "collapsed": false
   },
   "outputs": [],
   "source": [
    "subdisciplines = [\"Beeldhouwkunst\", \n",
    "                  \"Fotografie\", \n",
    "                  \"Grafiek\", \n",
    "                  \"Installatiekunst\", \n",
    "                  \"Kunst en kunsteducatie\", \n",
    "                  \"Meerdere kunstvormen\", \n",
    "                  \"Schilderkunst\"]\n",
    "df_bk_filtered = df_bk[df_bk[\"Datum tot\"] != datetime(1900, 1, 1)]\n",
    "df_bk_filtered = df_bk_filtered[df_bk_filtered[\"Subdiscipline\"].isin(subdisciplines)]\n",
    "df_bk_filtered = df_bk_filtered[\n",
    "    (df_bk_filtered[\"Datum van\"].between(datetime(2014, 1, 1), datetime(2014, 12, 31))) |\n",
    "    (df_bk_filtered[\"Datum tot\"].between(datetime(2014, 1, 1), datetime(2014, 12, 31)))\n",
    "]\n",
    "df_bk_filtered[\"Datum\"] = df_bk_filtered[\"Datum van\"]\n",
    "df_bk_filtered = df_bk_filtered.drop([\"Datum van\", \"Datum tot\"], axis=1)"
   ]
  },
  {
   "cell_type": "markdown",
   "metadata": {},
   "source": [
    "Even kijken hoe dit er allemaal uitziet:"
   ]
  },
  {
   "cell_type": "code",
   "execution_count": 5,
   "metadata": {
    "collapsed": false
   },
   "outputs": [
    {
     "data": {
      "text/html": [
       "<div>\n",
       "<table border=\"1\" class=\"dataframe\">\n",
       "  <thead>\n",
       "    <tr style=\"text-align: right;\">\n",
       "      <th></th>\n",
       "      <th>Discipline</th>\n",
       "      <th>Tekst</th>\n",
       "      <th>Gemeente</th>\n",
       "      <th>Titel</th>\n",
       "      <th>Subdiscipline</th>\n",
       "      <th>Organisator</th>\n",
       "      <th>Datum</th>\n",
       "    </tr>\n",
       "  </thead>\n",
       "  <tbody>\n",
       "    <tr>\n",
       "      <th>1</th>\n",
       "      <td>Tentoonstelling</td>\n",
       "      <td>Tentoonstelling keramiek van' de negen' afgest...</td>\n",
       "      <td>Hasselt</td>\n",
       "      <td>de ne9en</td>\n",
       "      <td>Meerdere kunstvormen</td>\n",
       "      <td>Stedelijke Academie voor Schone Kunsten Hasselt</td>\n",
       "      <td>2014-11-13</td>\n",
       "    </tr>\n",
       "    <tr>\n",
       "      <th>2</th>\n",
       "      <td>Tentoonstelling</td>\n",
       "      <td>Winterexpositie met werken van oa    Panamaren...</td>\n",
       "      <td>Kemzeke (Stekene)</td>\n",
       "      <td>Noli Me Tangere</td>\n",
       "      <td>Meerdere kunstvormen</td>\n",
       "      <td>Verbeke Foundation</td>\n",
       "      <td>2014-12-10</td>\n",
       "    </tr>\n",
       "    <tr>\n",
       "      <th>6</th>\n",
       "      <td>Tentoonstelling</td>\n",
       "      <td>Project gebaseerd op technologie, instinct en ...</td>\n",
       "      <td>Brussel</td>\n",
       "      <td>Fragments #43-44</td>\n",
       "      <td>Installatiekunst</td>\n",
       "      <td>PointCulture Bruxelles</td>\n",
       "      <td>2013-12-17</td>\n",
       "    </tr>\n",
       "    <tr>\n",
       "      <th>8</th>\n",
       "      <td>Tentoonstelling</td>\n",
       "      <td>‘’Tentoonstelling – Tuin - Serres - Vrije Teke...</td>\n",
       "      <td>Gent</td>\n",
       "      <td>Tentoonstelling Modelstudies in Plantentuin UGent</td>\n",
       "      <td>Schilderkunst</td>\n",
       "      <td>NaN</td>\n",
       "      <td>2014-05-08</td>\n",
       "    </tr>\n",
       "    <tr>\n",
       "      <th>10</th>\n",
       "      <td>Tentoonstelling</td>\n",
       "      <td>In het kader van Kunst in het Gemeentehuis ste...</td>\n",
       "      <td>Vaalbeek (Oud-Heverlee)</td>\n",
       "      <td>Kunst in het gemeentehuis: Lejon-art 70</td>\n",
       "      <td>Schilderkunst</td>\n",
       "      <td>Gemeente Oud-Heverlee</td>\n",
       "      <td>2014-09-24</td>\n",
       "    </tr>\n",
       "  </tbody>\n",
       "</table>\n",
       "</div>"
      ],
      "text/plain": [
       "         Discipline                                              Tekst  \\\n",
       "1   Tentoonstelling  Tentoonstelling keramiek van' de negen' afgest...   \n",
       "2   Tentoonstelling  Winterexpositie met werken van oa    Panamaren...   \n",
       "6   Tentoonstelling  Project gebaseerd op technologie, instinct en ...   \n",
       "8   Tentoonstelling  ‘’Tentoonstelling – Tuin - Serres - Vrije Teke...   \n",
       "10  Tentoonstelling  In het kader van Kunst in het Gemeentehuis ste...   \n",
       "\n",
       "                   Gemeente  \\\n",
       "1                   Hasselt   \n",
       "2         Kemzeke (Stekene)   \n",
       "6                   Brussel   \n",
       "8                      Gent   \n",
       "10  Vaalbeek (Oud-Heverlee)   \n",
       "\n",
       "                                                Titel         Subdiscipline  \\\n",
       "1                                            de ne9en  Meerdere kunstvormen   \n",
       "2                                     Noli Me Tangere  Meerdere kunstvormen   \n",
       "6                                   Fragments #43-44       Installatiekunst   \n",
       "8   Tentoonstelling Modelstudies in Plantentuin UGent         Schilderkunst   \n",
       "10            Kunst in het gemeentehuis: Lejon-art 70         Schilderkunst   \n",
       "\n",
       "                                        Organisator      Datum  \n",
       "1   Stedelijke Academie voor Schone Kunsten Hasselt 2014-11-13  \n",
       "2                                Verbeke Foundation 2014-12-10  \n",
       "6                            PointCulture Bruxelles 2013-12-17  \n",
       "8                                               NaN 2014-05-08  \n",
       "10                            Gemeente Oud-Heverlee 2014-09-24  "
      ]
     },
     "execution_count": 5,
     "metadata": {},
     "output_type": "execute_result"
    }
   ],
   "source": [
    "df_bk_filtered.head()"
   ]
  },
  {
   "cell_type": "code",
   "execution_count": 6,
   "metadata": {
    "collapsed": false
   },
   "outputs": [
    {
     "data": {
      "text/html": [
       "<div>\n",
       "<table border=\"1\" class=\"dataframe\">\n",
       "  <thead>\n",
       "    <tr style=\"text-align: right;\">\n",
       "      <th></th>\n",
       "      <th>Discipline</th>\n",
       "      <th>Tekst</th>\n",
       "      <th>Datum</th>\n",
       "      <th>Gemeente</th>\n",
       "      <th>Speelmomenten</th>\n",
       "      <th>Subdiscipline</th>\n",
       "      <th>Titel</th>\n",
       "      <th>Organisator</th>\n",
       "    </tr>\n",
       "  </thead>\n",
       "  <tbody>\n",
       "    <tr>\n",
       "      <th>0</th>\n",
       "      <td>Concert</td>\n",
       "      <td>De aangrijpende film die internationaal hoge t...</td>\n",
       "      <td>2014-12-21 00:00:00</td>\n",
       "      <td>Brussel</td>\n",
       "      <td>zo 21/12/14 van 20:00 tot 22:30</td>\n",
       "      <td>Pop en rock</td>\n",
       "      <td>The Broken Circle Breakdown Bluegrass Band</td>\n",
       "      <td>Ancienne Belgique</td>\n",
       "    </tr>\n",
       "    <tr>\n",
       "      <th>1</th>\n",
       "      <td>Concert</td>\n",
       "      <td>Zelfs heel wat toppianisten deinzen ervoor ter...</td>\n",
       "      <td>2014-03-20 00:00:00</td>\n",
       "      <td>Antwerpen 18 (Antwerpen)</td>\n",
       "      <td>do 20/03/14 van 20:00 tot 22:00</td>\n",
       "      <td>Thema onbepaald</td>\n",
       "      <td>National Philharmonic Of Russia Olv. Vladimir ...</td>\n",
       "      <td>deSingel</td>\n",
       "    </tr>\n",
       "    <tr>\n",
       "      <th>2</th>\n",
       "      <td>Concert</td>\n",
       "      <td>“Brilliant young piano trio.” (The Daily Teleg...</td>\n",
       "      <td>2014-10-23 00:00:00</td>\n",
       "      <td>Brussel</td>\n",
       "      <td>do 23/10/14 van 20:00 tot 22:30</td>\n",
       "      <td>Pop en rock</td>\n",
       "      <td>Gogo Penguin: Where Aphex Twin meets Jazz</td>\n",
       "      <td>Ancienne Belgique</td>\n",
       "    </tr>\n",
       "    <tr>\n",
       "      <th>3</th>\n",
       "      <td>Concert</td>\n",
       "      <td>Het Salagon Quartett, waarvan niemand minder d...</td>\n",
       "      <td>2014-03-28 00:00:00</td>\n",
       "      <td>Brugge</td>\n",
       "      <td>vrij 28/03/14 om 20:00</td>\n",
       "      <td>Klassieke muziek</td>\n",
       "      <td>SALAGON QUARTETT / MOZART &amp; BEETHOVEN</td>\n",
       "      <td>Concertgebouw Brugge</td>\n",
       "    </tr>\n",
       "    <tr>\n",
       "      <th>4</th>\n",
       "      <td>Concert</td>\n",
       "      <td>De Romeo’s hebben tal van nummer 1-hits op hun...</td>\n",
       "      <td>2014-10-31 00:00:00</td>\n",
       "      <td>Merksem (Antwerpen)</td>\n",
       "      <td>vrij 31/10/14 om 20:00</td>\n",
       "      <td>Pop en rock</td>\n",
       "      <td>Feestival</td>\n",
       "      <td>NaN</td>\n",
       "    </tr>\n",
       "  </tbody>\n",
       "</table>\n",
       "</div>"
      ],
      "text/plain": [
       "  Discipline                                              Tekst  \\\n",
       "0    Concert  De aangrijpende film die internationaal hoge t...   \n",
       "1    Concert  Zelfs heel wat toppianisten deinzen ervoor ter...   \n",
       "2    Concert  “Brilliant young piano trio.” (The Daily Teleg...   \n",
       "3    Concert  Het Salagon Quartett, waarvan niemand minder d...   \n",
       "4    Concert  De Romeo’s hebben tal van nummer 1-hits op hun...   \n",
       "\n",
       "                 Datum                  Gemeente  \\\n",
       "0  2014-12-21 00:00:00                   Brussel   \n",
       "1  2014-03-20 00:00:00  Antwerpen 18 (Antwerpen)   \n",
       "2  2014-10-23 00:00:00                   Brussel   \n",
       "3  2014-03-28 00:00:00                    Brugge   \n",
       "4  2014-10-31 00:00:00       Merksem (Antwerpen)   \n",
       "\n",
       "                      Speelmomenten     Subdiscipline  \\\n",
       "0  zo 21/12/14 van 20:00 tot 22:30        Pop en rock   \n",
       "1   do 20/03/14 van 20:00 tot 22:00   Thema onbepaald   \n",
       "2  do 23/10/14 van 20:00 tot 22:30        Pop en rock   \n",
       "3           vrij 28/03/14 om 20:00   Klassieke muziek   \n",
       "4           vrij 31/10/14 om 20:00        Pop en rock   \n",
       "\n",
       "                                               Titel           Organisator  \n",
       "0         The Broken Circle Breakdown Bluegrass Band     Ancienne Belgique  \n",
       "1  National Philharmonic Of Russia Olv. Vladimir ...             deSingel   \n",
       "2          Gogo Penguin: Where Aphex Twin meets Jazz     Ancienne Belgique  \n",
       "3              SALAGON QUARTETT / MOZART & BEETHOVEN  Concertgebouw Brugge  \n",
       "4                                          Feestival                   NaN  "
      ]
     },
     "execution_count": 6,
     "metadata": {},
     "output_type": "execute_result"
    }
   ],
   "source": [
    "df_muziek_expanded.head()"
   ]
  },
  {
   "cell_type": "code",
   "execution_count": 7,
   "metadata": {
    "collapsed": false
   },
   "outputs": [
    {
     "data": {
      "text/html": [
       "<div>\n",
       "<table border=\"1\" class=\"dataframe\">\n",
       "  <thead>\n",
       "    <tr style=\"text-align: right;\">\n",
       "      <th></th>\n",
       "      <th>Tekst</th>\n",
       "      <th>Gemeente</th>\n",
       "      <th>Datum</th>\n",
       "      <th>Discipline</th>\n",
       "      <th>Subdiscipline</th>\n",
       "      <th>Titel</th>\n",
       "      <th>Typologie organisator</th>\n",
       "      <th>Organisator</th>\n",
       "    </tr>\n",
       "  </thead>\n",
       "  <tbody>\n",
       "    <tr>\n",
       "      <th>0</th>\n",
       "      <td>Met Gil Grainlune.</td>\n",
       "      <td>Brussel</td>\n",
       "      <td>2010-01-12</td>\n",
       "      <td>podium</td>\n",
       "      <td>Theatervoorstelling</td>\n",
       "      <td>Raconte nous des histoires Mr Orts..</td>\n",
       "      <td>CA</td>\n",
       "      <td>CA</td>\n",
       "    </tr>\n",
       "    <tr>\n",
       "      <th>1</th>\n",
       "      <td>Regie David Michels en Bernard Lefrancq, met R...</td>\n",
       "      <td>Brussel</td>\n",
       "      <td>2010-01-31</td>\n",
       "      <td>podium</td>\n",
       "      <td>Theatervoorstelling</td>\n",
       "      <td>La revue 2010</td>\n",
       "      <td>FRG</td>\n",
       "      <td>FRG</td>\n",
       "    </tr>\n",
       "    <tr>\n",
       "      <th>2</th>\n",
       "      <td>Van  M. de Ghelderode, bewerking José Géal en ...</td>\n",
       "      <td>Brussel</td>\n",
       "      <td>2010-01-02</td>\n",
       "      <td>podium</td>\n",
       "      <td>Theatervoorstelling</td>\n",
       "      <td>La Nativité et le massacre des innocents</td>\n",
       "      <td>LOT</td>\n",
       "      <td>LOT</td>\n",
       "    </tr>\n",
       "    <tr>\n",
       "      <th>3</th>\n",
       "      <td>Van Jean-Michel Ribes, regie Eric De Staercke,...</td>\n",
       "      <td>Brussel</td>\n",
       "      <td>2010-01-03</td>\n",
       "      <td>podium</td>\n",
       "      <td>Theatervoorstelling</td>\n",
       "      <td>Théâtre sans animaux</td>\n",
       "      <td>FRG</td>\n",
       "      <td>FRG</td>\n",
       "    </tr>\n",
       "    <tr>\n",
       "      <th>4</th>\n",
       "      <td>Van Georges Courteline, regie Valéry Massion, ...</td>\n",
       "      <td>Brussel</td>\n",
       "      <td>2010-01-09</td>\n",
       "      <td>podium</td>\n",
       "      <td>Theatervoorstelling</td>\n",
       "      <td>Faire le malin est le propre de tout imbécile</td>\n",
       "      <td>FRG</td>\n",
       "      <td>FRG</td>\n",
       "    </tr>\n",
       "  </tbody>\n",
       "</table>\n",
       "</div>"
      ],
      "text/plain": [
       "                                               Tekst Gemeente      Datum  \\\n",
       "0                                Met Gil Grainlune.   Brussel 2010-01-12   \n",
       "1  Regie David Michels en Bernard Lefrancq, met R...  Brussel 2010-01-31   \n",
       "2  Van  M. de Ghelderode, bewerking José Géal en ...  Brussel 2010-01-02   \n",
       "3  Van Jean-Michel Ribes, regie Eric De Staercke,...  Brussel 2010-01-03   \n",
       "4  Van Georges Courteline, regie Valéry Massion, ...  Brussel 2010-01-09   \n",
       "\n",
       "  Discipline        Subdiscipline  \\\n",
       "0     podium  Theatervoorstelling   \n",
       "1     podium  Theatervoorstelling   \n",
       "2     podium  Theatervoorstelling   \n",
       "3     podium  Theatervoorstelling   \n",
       "4     podium  Theatervoorstelling   \n",
       "\n",
       "                                           Titel Typologie organisator  \\\n",
       "0           Raconte nous des histoires Mr Orts..                    CA   \n",
       "1                                  La revue 2010                   FRG   \n",
       "2       La Nativité et le massacre des innocents                   LOT   \n",
       "3                           Théâtre sans animaux                   FRG   \n",
       "4  Faire le malin est le propre de tout imbécile                   FRG   \n",
       "\n",
       "  Organisator  \n",
       "0          CA  \n",
       "1         FRG  \n",
       "2         LOT  \n",
       "3         FRG  \n",
       "4         FRG  "
      ]
     },
     "execution_count": 7,
     "metadata": {},
     "output_type": "execute_result"
    }
   ],
   "source": [
    "df_podium.head()"
   ]
  },
  {
   "cell_type": "markdown",
   "metadata": {},
   "source": [
    "We gaan nu de de organisator omzetten naar een typering. We moeten eerst beginnen met die mapping van organisator naar typering op te bouwen op basis van de gegevens die Simon wist aan te leveren."
   ]
  },
  {
   "cell_type": "code",
   "execution_count": 8,
   "metadata": {
    "collapsed": false
   },
   "outputs": [],
   "source": [
    "typering_podium = read_excel(\"extra gegevens/typologie_organisatoren.xlsx\", sheetname='podium')\n",
    "typering_muziek = read_excel(\"extra gegevens/typologie_organisatoren.xlsx\", sheetname='muziek2')\n",
    "typering_beeldende = read_excel(\"extra gegevens/typologie_organisatoren.xlsx\", sheetname='beeldende1')"
   ]
  },
  {
   "cell_type": "code",
   "execution_count": null,
   "metadata": {
    "collapsed": false
   },
   "outputs": [],
   "source": [
    "onmapbaar = []\n",
    "\n",
    "def map_organisator_naar_typologie(item, mapping):\n",
    "    try:\n",
    "        return mapping[mapping[\"key\"].str.lower() == str(item).lower()][\"value\"].values[0]\n",
    "    except IndexError:\n",
    "        onmapbaar.append(item)\n",
    "\n",
    "df_podium[\"typering\"] = df_podium[\"Organisator\"].apply(map_organisator_naar_typologie, args=(typering_podium,))\n",
    "df_muziek_expanded[\"typering\"] = df_muziek_expanded[\"Organisator\"].apply(map_organisator_naar_typologie, args=(typering_muziek,))\n",
    "df_bk_filtered[\"typering\"] = df_bk_filtered[\"Organisator\"].apply(map_organisator_naar_typologie, args=(typering_beeldende,))"
   ]
  },
  {
   "cell_type": "markdown",
   "metadata": {},
   "source": [
    "Nu voegen we alles mooi samen, selecteren enkel de juiste kolommen, en gooien ook duplicaten op basis van datum, gemeente en tekst eruit. Bovendien hebben we de kolom met speelmomenten ook niet meer nodig."
   ]
  },
  {
   "cell_type": "code",
   "execution_count": 9,
   "metadata": {
    "collapsed": false
   },
   "outputs": [
    {
     "data": {
      "text/html": [
       "<div>\n",
       "<table border=\"1\" class=\"dataframe\">\n",
       "  <thead>\n",
       "    <tr style=\"text-align: right;\">\n",
       "      <th></th>\n",
       "      <th>Tekst</th>\n",
       "      <th>Gemeente</th>\n",
       "      <th>Datum</th>\n",
       "      <th>Discipline</th>\n",
       "      <th>Subdiscipline</th>\n",
       "      <th>Titel</th>\n",
       "      <th>Typologie organisator</th>\n",
       "      <th>Organisator</th>\n",
       "    </tr>\n",
       "  </thead>\n",
       "  <tbody>\n",
       "    <tr>\n",
       "      <th>0</th>\n",
       "      <td>Met Gil Grainlune.</td>\n",
       "      <td>Brussel</td>\n",
       "      <td>2010-01-12</td>\n",
       "      <td>podium</td>\n",
       "      <td>Theatervoorstelling</td>\n",
       "      <td>Raconte nous des histoires Mr Orts..</td>\n",
       "      <td>CA</td>\n",
       "      <td>CA</td>\n",
       "    </tr>\n",
       "    <tr>\n",
       "      <th>1</th>\n",
       "      <td>Regie David Michels en Bernard Lefrancq, met R...</td>\n",
       "      <td>Brussel</td>\n",
       "      <td>2010-01-31</td>\n",
       "      <td>podium</td>\n",
       "      <td>Theatervoorstelling</td>\n",
       "      <td>La revue 2010</td>\n",
       "      <td>FRG</td>\n",
       "      <td>FRG</td>\n",
       "    </tr>\n",
       "    <tr>\n",
       "      <th>2</th>\n",
       "      <td>Van  M. de Ghelderode, bewerking José Géal en ...</td>\n",
       "      <td>Brussel</td>\n",
       "      <td>2010-01-02</td>\n",
       "      <td>podium</td>\n",
       "      <td>Theatervoorstelling</td>\n",
       "      <td>La Nativité et le massacre des innocents</td>\n",
       "      <td>LOT</td>\n",
       "      <td>LOT</td>\n",
       "    </tr>\n",
       "    <tr>\n",
       "      <th>3</th>\n",
       "      <td>Van Jean-Michel Ribes, regie Eric De Staercke,...</td>\n",
       "      <td>Brussel</td>\n",
       "      <td>2010-01-03</td>\n",
       "      <td>podium</td>\n",
       "      <td>Theatervoorstelling</td>\n",
       "      <td>Théâtre sans animaux</td>\n",
       "      <td>FRG</td>\n",
       "      <td>FRG</td>\n",
       "    </tr>\n",
       "    <tr>\n",
       "      <th>4</th>\n",
       "      <td>Van Georges Courteline, regie Valéry Massion, ...</td>\n",
       "      <td>Brussel</td>\n",
       "      <td>2010-01-09</td>\n",
       "      <td>podium</td>\n",
       "      <td>Theatervoorstelling</td>\n",
       "      <td>Faire le malin est le propre de tout imbécile</td>\n",
       "      <td>FRG</td>\n",
       "      <td>FRG</td>\n",
       "    </tr>\n",
       "  </tbody>\n",
       "</table>\n",
       "</div>"
      ],
      "text/plain": [
       "                                               Tekst Gemeente      Datum  \\\n",
       "0                                Met Gil Grainlune.   Brussel 2010-01-12   \n",
       "1  Regie David Michels en Bernard Lefrancq, met R...  Brussel 2010-01-31   \n",
       "2  Van  M. de Ghelderode, bewerking José Géal en ...  Brussel 2010-01-02   \n",
       "3  Van Jean-Michel Ribes, regie Eric De Staercke,...  Brussel 2010-01-03   \n",
       "4  Van Georges Courteline, regie Valéry Massion, ...  Brussel 2010-01-09   \n",
       "\n",
       "  Discipline        Subdiscipline  \\\n",
       "0     podium  Theatervoorstelling   \n",
       "1     podium  Theatervoorstelling   \n",
       "2     podium  Theatervoorstelling   \n",
       "3     podium  Theatervoorstelling   \n",
       "4     podium  Theatervoorstelling   \n",
       "\n",
       "                                           Titel Typologie organisator  \\\n",
       "0           Raconte nous des histoires Mr Orts..                    CA   \n",
       "1                                  La revue 2010                   FRG   \n",
       "2       La Nativité et le massacre des innocents                   LOT   \n",
       "3                           Théâtre sans animaux                   FRG   \n",
       "4  Faire le malin est le propre de tout imbécile                   FRG   \n",
       "\n",
       "  Organisator  \n",
       "0          CA  \n",
       "1         FRG  \n",
       "2         LOT  \n",
       "3         FRG  \n",
       "4         FRG  "
      ]
     },
     "execution_count": 9,
     "metadata": {},
     "output_type": "execute_result"
    }
   ],
   "source": [
    "df_podium.head()"
   ]
  },
  {
   "cell_type": "code",
   "execution_count": 10,
   "metadata": {
    "collapsed": false
   },
   "outputs": [],
   "source": [
    "df_muziek_expanded_clean = df_muziek_expanded.drop(\"Speelmomenten\", axis=1)\n",
    "df_podium_clean = df_podium.drop(\"Typologie organisator\", axis=1)\n",
    "df = concat([df_podium_clean, df_bk_filtered, df_muziek_expanded_clean])\n",
    "df = df[df[\"Datum\"].between(datetime(2014, 1, 1), datetime(2014, 12, 31))]\n",
    "df.drop_duplicates(subset=[\"Datum\", \"Titel\", \"Discipline\", \"Subdiscipline\", \"Gemeente\", \"Tekst\"], inplace=True)\n",
    "df.drop(\"Titel\", axis=1, inplace=True)"
   ]
  },
  {
   "cell_type": "markdown",
   "metadata": {},
   "source": [
    "We kunnen kort inspecteren hoe deze data eruitzien."
   ]
  },
  {
   "cell_type": "code",
   "execution_count": 11,
   "metadata": {
    "collapsed": false
   },
   "outputs": [
    {
     "data": {
      "text/html": [
       "<div>\n",
       "<table border=\"1\" class=\"dataframe\">\n",
       "  <thead>\n",
       "    <tr style=\"text-align: right;\">\n",
       "      <th></th>\n",
       "      <th>Datum</th>\n",
       "      <th>Discipline</th>\n",
       "      <th>Gemeente</th>\n",
       "      <th>Organisator</th>\n",
       "      <th>Subdiscipline</th>\n",
       "      <th>Tekst</th>\n",
       "    </tr>\n",
       "  </thead>\n",
       "  <tbody>\n",
       "    <tr>\n",
       "      <th>747</th>\n",
       "      <td>2014-04-02 00:00:00</td>\n",
       "      <td>podium</td>\n",
       "      <td>Brussel</td>\n",
       "      <td>RE</td>\n",
       "      <td>Dansvoorstelling</td>\n",
       "      <td>Shen Yun brengt 5.000 jaar Chinese beschaving ...</td>\n",
       "    </tr>\n",
       "    <tr>\n",
       "      <th>748</th>\n",
       "      <td>2014-04-03 00:00:00</td>\n",
       "      <td>podium</td>\n",
       "      <td>Brussel</td>\n",
       "      <td>RE</td>\n",
       "      <td>Dansvoorstelling</td>\n",
       "      <td>Shen Yun brengt 5.000 jaar Chinese beschaving ...</td>\n",
       "    </tr>\n",
       "    <tr>\n",
       "      <th>749</th>\n",
       "      <td>2014-04-04 00:00:00</td>\n",
       "      <td>podium</td>\n",
       "      <td>Brussel</td>\n",
       "      <td>RE</td>\n",
       "      <td>Dansvoorstelling</td>\n",
       "      <td>Shen Yun brengt 5.000 jaar Chinese beschaving ...</td>\n",
       "    </tr>\n",
       "    <tr>\n",
       "      <th>750</th>\n",
       "      <td>2014-04-05 00:00:00</td>\n",
       "      <td>podium</td>\n",
       "      <td>Brussel</td>\n",
       "      <td>RE</td>\n",
       "      <td>Dansvoorstelling</td>\n",
       "      <td>Shen Yun brengt 5.000 jaar Chinese beschaving ...</td>\n",
       "    </tr>\n",
       "    <tr>\n",
       "      <th>752</th>\n",
       "      <td>2014-04-06 00:00:00</td>\n",
       "      <td>podium</td>\n",
       "      <td>Brussel</td>\n",
       "      <td>RE</td>\n",
       "      <td>Dansvoorstelling</td>\n",
       "      <td>Shen Yun brengt 5.000 jaar Chinese beschaving ...</td>\n",
       "    </tr>\n",
       "  </tbody>\n",
       "</table>\n",
       "</div>"
      ],
      "text/plain": [
       "                   Datum Discipline Gemeente Organisator     Subdiscipline  \\\n",
       "747  2014-04-02 00:00:00     podium  Brussel          RE  Dansvoorstelling   \n",
       "748  2014-04-03 00:00:00     podium  Brussel          RE  Dansvoorstelling   \n",
       "749  2014-04-04 00:00:00     podium  Brussel          RE  Dansvoorstelling   \n",
       "750  2014-04-05 00:00:00     podium  Brussel          RE  Dansvoorstelling   \n",
       "752  2014-04-06 00:00:00     podium  Brussel          RE  Dansvoorstelling   \n",
       "\n",
       "                                                 Tekst  \n",
       "747  Shen Yun brengt 5.000 jaar Chinese beschaving ...  \n",
       "748  Shen Yun brengt 5.000 jaar Chinese beschaving ...  \n",
       "749  Shen Yun brengt 5.000 jaar Chinese beschaving ...  \n",
       "750  Shen Yun brengt 5.000 jaar Chinese beschaving ...  \n",
       "752  Shen Yun brengt 5.000 jaar Chinese beschaving ...  "
      ]
     },
     "execution_count": 11,
     "metadata": {},
     "output_type": "execute_result"
    }
   ],
   "source": [
    "df.head()"
   ]
  },
  {
   "cell_type": "markdown",
   "metadata": {},
   "source": [
    "We zien dat elke lijn een event beschrijving bevat, de plaats waar een event plaatsvindt, en ook de datum. Merk op dat events die op meerdere dagen plaatsvinden een aparte lijn krijgen. We zullen hiermee rekening houden in de interpretatie van de resultaten."
   ]
  },
  {
   "cell_type": "markdown",
   "metadata": {},
   "source": [
    "Telling per discipline van het aantal unieke events:"
   ]
  },
  {
   "cell_type": "code",
   "execution_count": 12,
   "metadata": {
    "collapsed": false
   },
   "outputs": [
    {
     "data": {
      "text/plain": [
       "Concert            20500\n",
       "podium             19406\n",
       "Tentoonstelling     3570\n",
       "Name: Discipline, dtype: int64"
      ]
     },
     "execution_count": 12,
     "metadata": {},
     "output_type": "execute_result"
    }
   ],
   "source": [
    "df[\"Discipline\"].value_counts()"
   ]
  },
  {
   "cell_type": "markdown",
   "metadata": {},
   "source": [
    "En hoeveel daarvan hebben geen beschrijving?"
   ]
  },
  {
   "cell_type": "code",
   "execution_count": 30,
   "metadata": {
    "collapsed": false
   },
   "outputs": [
    {
     "name": "stdout",
     "output_type": "stream",
     "text": [
      "podium 1521 concert 1842 beeldend 51\n"
     ]
    }
   ],
   "source": [
    "print(\"podium\", len(df[(df[\"Tekst\"].str.strip() == \"\") & (df[\"Discipline\"] == \"podium\")][\"Tekst\"]),\n",
    "      \"concert\", len(df[(df[\"Tekst\"].str.strip() == \"\") & (df[\"Discipline\"] == \"Concert\")][\"Tekst\"]),\n",
    "      \"beeldend\", len(df[(df[\"Tekst\"].str.strip() == \"\") & (df[\"Discipline\"] == \"Tentoonstelling\")][\"Tekst\"]))"
   ]
  },
  {
   "cell_type": "markdown",
   "metadata": {},
   "source": [
    "Zo, we kunnen deze dataset nu mooi uitschrijven naar een Excel bestand, zodat Simon nog enkele laatste correcties en aanvullingen kan doorvoeren."
   ]
  },
  {
   "cell_type": "code",
   "execution_count": 14,
   "metadata": {
    "collapsed": false
   },
   "outputs": [],
   "source": [
    "df.to_csv(\"samengevoegde data/df.csv\")"
   ]
  },
  {
   "cell_type": "markdown",
   "metadata": {},
   "source": [
    "## Landsvermeldingen\n",
    "\n",
    "Na de manuele correctie van Simon kunnen we nu aan de slag met een propere dataset, die we dan hier nu ook inlezen."
   ]
  },
  {
   "cell_type": "code",
   "execution_count": 18,
   "metadata": {
    "collapsed": false
   },
   "outputs": [],
   "source": [
    "df = read_excel(\"samengevoegde data/df_manuele-correctie.xlsx\")"
   ]
  },
  {
   "cell_type": "markdown",
   "metadata": {},
   "source": [
    "Voor onze analyse hebben we ook nood aan een lijst van namen van landen, coordinaten voor de plaatsnamen, en ook een manueel gemaakte mapping om de plaatsnamen in de UiTdatabank gegevens te normaliseren."
   ]
  },
  {
   "cell_type": "code",
   "execution_count": 40,
   "metadata": {
    "collapsed": false
   },
   "outputs": [],
   "source": [
    "typering = read_csv(\"extra gegevens/mapping_udb-gemeente_fusie-gemeente.csv\", delimiter=';')\n",
    "coord = read_csv(\"extra gegevens/coordinaten.csv\", delimiter=';')\n",
    "landen = read_excel(\"extra gegevens/landen.xlsx\", sheetname=\"uitgebreide lijst 2014\")"
   ]
  },
  {
   "cell_type": "markdown",
   "metadata": {},
   "source": [
    "Laten we even in detail deze tabellen bekijken. De landen:"
   ]
  },
  {
   "cell_type": "code",
   "execution_count": 20,
   "metadata": {
    "collapsed": false
   },
   "outputs": [
    {
     "data": {
      "text/html": [
       "<div>\n",
       "<table border=\"1\" class=\"dataframe\">\n",
       "  <thead>\n",
       "    <tr style=\"text-align: right;\">\n",
       "      <th></th>\n",
       "      <th>Continent (staatkundig)</th>\n",
       "      <th>Land</th>\n",
       "      <th>Soort mention</th>\n",
       "      <th>Mention</th>\n",
       "    </tr>\n",
       "  </thead>\n",
       "  <tbody>\n",
       "    <tr>\n",
       "      <th>0</th>\n",
       "      <td>Azië</td>\n",
       "      <td>Afghanistan</td>\n",
       "      <td>korte landnaam</td>\n",
       "      <td>Afghanistan</td>\n",
       "    </tr>\n",
       "    <tr>\n",
       "      <th>1</th>\n",
       "      <td>Azië</td>\n",
       "      <td>Afghanistan</td>\n",
       "      <td>inwoner</td>\n",
       "      <td>Afghaan</td>\n",
       "    </tr>\n",
       "    <tr>\n",
       "      <th>2</th>\n",
       "      <td>Azië</td>\n",
       "      <td>Afghanistan</td>\n",
       "      <td>inwoner</td>\n",
       "      <td>Afghanen</td>\n",
       "    </tr>\n",
       "    <tr>\n",
       "      <th>3</th>\n",
       "      <td>Azië</td>\n",
       "      <td>Afghanistan</td>\n",
       "      <td>adjectief</td>\n",
       "      <td>Afghaans</td>\n",
       "    </tr>\n",
       "    <tr>\n",
       "      <th>4</th>\n",
       "      <td>Azië</td>\n",
       "      <td>Afghanistan</td>\n",
       "      <td>adjectief</td>\n",
       "      <td>Afghaanse</td>\n",
       "    </tr>\n",
       "  </tbody>\n",
       "</table>\n",
       "</div>"
      ],
      "text/plain": [
       "  Continent (staatkundig)         Land   Soort mention      Mention\n",
       "0                    Azië  Afghanistan  korte landnaam  Afghanistan\n",
       "1                    Azië  Afghanistan         inwoner      Afghaan\n",
       "2                    Azië  Afghanistan         inwoner     Afghanen\n",
       "3                    Azië  Afghanistan       adjectief     Afghaans\n",
       "4                    Azië  Afghanistan       adjectief    Afghaanse"
      ]
     },
     "execution_count": 20,
     "metadata": {},
     "output_type": "execute_result"
    }
   ],
   "source": [
    "landen.head()"
   ]
  },
  {
   "cell_type": "markdown",
   "metadata": {},
   "source": [
    "Voor elk land weten we in welk (staatkundig) continent het ligt, en we hebben in de kolom 'Mention' verschillende manieren waarop dat land kan voorkomen in de tekst.\n",
    "\n",
    "Bij typering zien we het volgende:"
   ]
  },
  {
   "cell_type": "code",
   "execution_count": 41,
   "metadata": {
    "collapsed": false
   },
   "outputs": [
    {
     "data": {
      "text/html": [
       "<div>\n",
       "<table border=\"1\" class=\"dataframe\">\n",
       "  <thead>\n",
       "    <tr style=\"text-align: right;\">\n",
       "      <th></th>\n",
       "      <th>Gemeente Origineel</th>\n",
       "      <th>Postcode</th>\n",
       "      <th>Fusiegemeente</th>\n",
       "      <th>Stedelijkheid fusiegemeenten</th>\n",
       "      <th>Gemeente cluster</th>\n",
       "      <th>Province (English)</th>\n",
       "      <th>Country (English)</th>\n",
       "      <th>Provincie</th>\n",
       "      <th>Stedelijkheid</th>\n",
       "    </tr>\n",
       "  </thead>\n",
       "  <tbody>\n",
       "    <tr>\n",
       "      <th>932</th>\n",
       "      <td>Kleine-Brogel (Peer)</td>\n",
       "      <td>NaN</td>\n",
       "      <td>Peer</td>\n",
       "      <td>Niet-stedelijk</td>\n",
       "      <td>Peer</td>\n",
       "      <td>Limburg</td>\n",
       "      <td>Belgium</td>\n",
       "      <td>Limburg</td>\n",
       "      <td>Niet-stedelijk</td>\n",
       "    </tr>\n",
       "    <tr>\n",
       "      <th>933</th>\n",
       "      <td>Meilegem (Zwalm)</td>\n",
       "      <td>NaN</td>\n",
       "      <td>Zwalm</td>\n",
       "      <td>Niet-stedelijk</td>\n",
       "      <td>Zwalm</td>\n",
       "      <td>East Flanders</td>\n",
       "      <td>Belgium</td>\n",
       "      <td>Oost-Vlaanderen</td>\n",
       "      <td>Niet-stedelijk</td>\n",
       "    </tr>\n",
       "    <tr>\n",
       "      <th>934</th>\n",
       "      <td>Beek (Bree)</td>\n",
       "      <td>NaN</td>\n",
       "      <td>Bree</td>\n",
       "      <td>Niet-stedelijk</td>\n",
       "      <td>Bree</td>\n",
       "      <td>Limburg</td>\n",
       "      <td>Belgium</td>\n",
       "      <td>Limburg</td>\n",
       "      <td>Niet-stedelijk</td>\n",
       "    </tr>\n",
       "    <tr>\n",
       "      <th>935</th>\n",
       "      <td>Oetingen (Gooik)</td>\n",
       "      <td>NaN</td>\n",
       "      <td>Gooik</td>\n",
       "      <td>Niet-stedelijk</td>\n",
       "      <td>Gooik</td>\n",
       "      <td>Flemish Brabant</td>\n",
       "      <td>Belgium</td>\n",
       "      <td>Vlaams-Brabant</td>\n",
       "      <td>Niet-stedelijk</td>\n",
       "    </tr>\n",
       "    <tr>\n",
       "      <th>936</th>\n",
       "      <td>Vaalbeek (Oud-Heverlee)</td>\n",
       "      <td>NaN</td>\n",
       "      <td>Oud-Heverlee</td>\n",
       "      <td>Niet-stedelijk</td>\n",
       "      <td>Oud-Heverlee</td>\n",
       "      <td>Flemish Brabant</td>\n",
       "      <td>Belgium</td>\n",
       "      <td>Vlaams-Brabant</td>\n",
       "      <td>Niet-stedelijk</td>\n",
       "    </tr>\n",
       "  </tbody>\n",
       "</table>\n",
       "</div>"
      ],
      "text/plain": [
       "          Gemeente Origineel  Postcode Fusiegemeente  \\\n",
       "932     Kleine-Brogel (Peer)       NaN          Peer   \n",
       "933         Meilegem (Zwalm)       NaN         Zwalm   \n",
       "934              Beek (Bree)       NaN          Bree   \n",
       "935         Oetingen (Gooik)       NaN         Gooik   \n",
       "936  Vaalbeek (Oud-Heverlee)       NaN  Oud-Heverlee   \n",
       "\n",
       "    Stedelijkheid fusiegemeenten Gemeente cluster Province (English)  \\\n",
       "932               Niet-stedelijk             Peer            Limburg   \n",
       "933               Niet-stedelijk            Zwalm      East Flanders   \n",
       "934               Niet-stedelijk             Bree            Limburg   \n",
       "935               Niet-stedelijk            Gooik    Flemish Brabant   \n",
       "936               Niet-stedelijk     Oud-Heverlee    Flemish Brabant   \n",
       "\n",
       "    Country (English)        Provincie   Stedelijkheid  \n",
       "932           Belgium          Limburg  Niet-stedelijk  \n",
       "933           Belgium  Oost-Vlaanderen  Niet-stedelijk  \n",
       "934           Belgium          Limburg  Niet-stedelijk  \n",
       "935           Belgium   Vlaams-Brabant  Niet-stedelijk  \n",
       "936           Belgium   Vlaams-Brabant  Niet-stedelijk  "
      ]
     },
     "execution_count": 41,
     "metadata": {},
     "output_type": "execute_result"
    }
   ],
   "source": [
    "typering.tail()"
   ]
  },
  {
   "cell_type": "markdown",
   "metadata": {},
   "source": [
    "De kolom Gemeente Origineel is de naam van de gemeente in de uitdatabank gegevens, en we kunnen de naam in de kolom Fusiegemeente en Province (English) gebruiken om een genormaliseerd zicht te krijgen.\n",
    "\n",
    "Tot slot hebben we nog de coordinaten:"
   ]
  },
  {
   "cell_type": "code",
   "execution_count": 22,
   "metadata": {
    "collapsed": false
   },
   "outputs": [
    {
     "data": {
      "text/html": [
       "<div>\n",
       "<table border=\"1\" class=\"dataframe\">\n",
       "  <thead>\n",
       "    <tr style=\"text-align: right;\">\n",
       "      <th></th>\n",
       "      <th>Fusiegemeente</th>\n",
       "      <th>adress</th>\n",
       "      <th>latitude</th>\n",
       "      <th>longitude</th>\n",
       "    </tr>\n",
       "  </thead>\n",
       "  <tbody>\n",
       "    <tr>\n",
       "      <th>0</th>\n",
       "      <td>Aalst</td>\n",
       "      <td>Aalst, Belgium</td>\n",
       "      <td>50,9378101</td>\n",
       "      <td>4,0409517</td>\n",
       "    </tr>\n",
       "    <tr>\n",
       "      <th>1</th>\n",
       "      <td>Aalter</td>\n",
       "      <td>Aalter, Belgium</td>\n",
       "      <td>51,087349</td>\n",
       "      <td>3,448371</td>\n",
       "    </tr>\n",
       "    <tr>\n",
       "      <th>2</th>\n",
       "      <td>Aarschot</td>\n",
       "      <td>Aarschot, Belgium</td>\n",
       "      <td>50,9859959</td>\n",
       "      <td>4,8365218</td>\n",
       "    </tr>\n",
       "    <tr>\n",
       "      <th>3</th>\n",
       "      <td>Aartselaar</td>\n",
       "      <td>Aartselaar, Belgium</td>\n",
       "      <td>51,1340539</td>\n",
       "      <td>4,3844742</td>\n",
       "    </tr>\n",
       "    <tr>\n",
       "      <th>4</th>\n",
       "      <td>Affligem</td>\n",
       "      <td>Affligem, Belgium</td>\n",
       "      <td>50,9084</td>\n",
       "      <td>4,11281</td>\n",
       "    </tr>\n",
       "  </tbody>\n",
       "</table>\n",
       "</div>"
      ],
      "text/plain": [
       "  Fusiegemeente               adress    latitude  longitude\n",
       "0         Aalst       Aalst, Belgium  50,9378101  4,0409517\n",
       "1        Aalter      Aalter, Belgium   51,087349   3,448371\n",
       "2      Aarschot    Aarschot, Belgium  50,9859959  4,8365218\n",
       "3    Aartselaar  Aartselaar, Belgium  51,1340539  4,3844742\n",
       "4      Affligem    Affligem, Belgium     50,9084    4,11281"
      ]
     },
     "execution_count": 22,
     "metadata": {},
     "output_type": "execute_result"
    }
   ],
   "source": [
    "coord.head()"
   ]
  },
  {
   "cell_type": "markdown",
   "metadata": {},
   "source": [
    "Hiermee kunnen we voor iedere Fusiegemeente (zie vorige tabel) de latitude en longitude ophalen."
   ]
  },
  {
   "cell_type": "markdown",
   "metadata": {},
   "source": [
    "Nu gaan we voor ieder event in de UiTdatabankgegevens na welk land er vermeld wordt in de beschrijving van dat event. We houden ook al onmiddellijk bij wat de genormaliseerde naam is van de gemeente en de coordinaten van het centrum. Bovendien tellen we binnen het land ook nog de verschillende disciplines."
   ]
  },
  {
   "cell_type": "code",
   "execution_count": 45,
   "metadata": {
    "collapsed": false
   },
   "outputs": [
    {
     "name": "stdout",
     "output_type": "stream",
     "text": [
      "5000 of 43450\n",
      "10000 of 43450\n",
      "15000 of 43450\n",
      "20000 of 43450\n",
      "Lessines geeft een probleem: index 0 is out of bounds for axis 0 with size 0\n",
      "25000 of 43450\n",
      "30000 of 43450\n",
      "Charleroi geeft een probleem: index 0 is out of bounds for axis 0 with size 0\n",
      "35000 of 43450\n",
      "40000 of 43450\n",
      "LiÍÎge geeft een probleem: index 0 is out of bounds for axis 0 with size 0\n",
      "LiÍÎge geeft een probleem: index 0 is out of bounds for axis 0 with size 0\n",
      "LiÍÎge geeft een probleem: index 0 is out of bounds for axis 0 with size 0\n",
      "LiÍÎge geeft een probleem: index 0 is out of bounds for axis 0 with size 0\n",
      "LiÍÎge geeft een probleem: index 0 is out of bounds for axis 0 with size 0\n",
      "LiÍÎge geeft een probleem: index 0 is out of bounds for axis 0 with size 0\n"
     ]
    }
   ],
   "source": [
    "data = {}\n",
    "niet_vlaams = [\"Jodoigne\", \"Tournai\", \"Escanaffles\", \"Houffalize\", \"Haulchin\", \n",
    "               \"Braine l'Alleud\", \"Tourinnes-la-Grosse\", \"Liège\", \"Marchienne-au-Pont\", \"Eupen\"]\n",
    "count = 1\n",
    "for row in df.iterrows():\n",
    "    if count % 5000 == 0:\n",
    "        print(count, \"of\", len(df.index))\n",
    "    count += 1\n",
    "    tekst = row[1][\"Tekst\"]\n",
    "    gemeente = row[1][\"Gemeente\"]\n",
    "    organisatie = row[1][\"typering\"]\n",
    "    if str(gemeente) != \"nan\" and str(gemeente) not in niet_vlaams:\n",
    "        for land in set(landen[\"Land\"].values):\n",
    "            regex = compile(r\"\\b(\" + r\"|\".join(landen[landen[\"Land\"] == land][\"Mention\"]) + r\")\\b\")\n",
    "            amount_of_mentions = len(regex.findall(str(tekst)))\n",
    "            if amount_of_mentions > 0:\n",
    "                try:\n",
    "                    typeringlijn = typering[typering[\"Gemeente Origineel\"] == gemeente]\n",
    "                    fusiegemeente = typeringlijn[\"Fusiegemeente\"].values[0]\n",
    "                    provincie = typeringlijn[\"Province (English)\"].values[0]\n",
    "                    lat = coord[coord[\"Fusiegemeente\"] == fusiegemeente][\"latitude\"].values[0]\n",
    "                    lon = coord[coord[\"Fusiegemeente\"] == fusiegemeente][\"longitude\"].values[0]\n",
    "                    continent = landen[landen[\"Land\"] == land][\"Continent (staatkundig)\"].values[0]\n",
    "                    discipline = row[1][\"Discipline\"]\n",
    "                    subdiscipline = row[1][\"Subdiscipline\"]\n",
    "                    if fusiegemeente not in data:\n",
    "                        data[fusiegemeente] = {\"latitude\": float(lat.replace(',', '.')),\n",
    "                                               \"longitude\": float(lon.replace(',', '.')),\n",
    "                                               \"provincie\": provincie,\n",
    "                                               \"vermeldingen\": {}\n",
    "                                               }\n",
    "                    if organisatie not in data[fusiegemeente][\"vermeldingen\"]:\n",
    "                        data[fusiegemeente][\"vermeldingen\"][organisatie] = {}\n",
    "                    if continent not in data[fusiegemeente][\"vermeldingen\"][organisatie]:\n",
    "                        data[fusiegemeente][\"vermeldingen\"][organisatie][continent] = {}\n",
    "                    if land not in data[fusiegemeente][\"vermeldingen\"][organisatie][continent]:\n",
    "                        data[fusiegemeente][\"vermeldingen\"][organisatie][continent][land] = {}\n",
    "                    if discipline not in data[fusiegemeente][\"vermeldingen\"][organisatie][continent][land]:\n",
    "                        data[fusiegemeente][\"vermeldingen\"][organisatie][continent][land][discipline] = {}\n",
    "                    if subdiscipline not in data[fusiegemeente][\"vermeldingen\"][organisatie][continent][land][discipline] :\n",
    "                        data[fusiegemeente][\"vermeldingen\"][organisatie][continent][land][discipline][subdiscipline] = 0\n",
    "                    data[fusiegemeente][\"vermeldingen\"][organisatie][continent][land][discipline][subdiscipline] += amount_of_mentions\n",
    "                except Exception as e:\n",
    "                    print(gemeente, \"geeft een probleem:\", e)"
   ]
  },
  {
   "cell_type": "markdown",
   "metadata": {},
   "source": [
    "We kunnen al eens gauw de structuur van deze gegevens nakijken voor bijvoorbeeld de gemeente Lanaken:"
   ]
  },
  {
   "cell_type": "code",
   "execution_count": 50,
   "metadata": {
    "collapsed": false
   },
   "outputs": [
    {
     "name": "stdout",
     "output_type": "stream",
     "text": [
      "{\n",
      "  \"vermeldingen\": {\n",
      "    \"NaN\": {\n",
      "      \"Europa\": {\n",
      "        \"Polen\": {\n",
      "          \"Concert\": {\n",
      "            \"Klassieke muziek\": 2\n",
      "          }\n",
      "        },\n",
      "        \"Verenigd Koninkrijk\": {\n",
      "          \"Concert\": {\n",
      "            \"Klassieke muziek\": 2\n",
      "          }\n",
      "        },\n",
      "        \"Belgi\\u00eb\": {\n",
      "          \"Tentoonstelling\": {\n",
      "            \"Installatiekunst\": 1\n",
      "          }\n",
      "        }\n",
      "      }\n",
      "    },\n",
      "    \"Sociaal-cultureel en amateur\": {\n",
      "      \"Afrika\": {\n",
      "        \"Congo-Kinshasa\": {\n",
      "          \"Concert\": {\n",
      "            \"Thema onbepaald\": 1\n",
      "          }\n",
      "        }\n",
      "      }\n",
      "    },\n",
      "    \"Rest\": {\n",
      "      \"Noord-Amerika\": {\n",
      "        \"Verenigde Staten\": {\n",
      "          \"Concert\": {\n",
      "            \"Folk en wereldmuziek\": 1\n",
      "          }\n",
      "        }\n",
      "      },\n",
      "      \"Europa\": {\n",
      "        \"Belgi\\u00eb\": {\n",
      "          \"Concert\": {\n",
      "            \"Folk en wereldmuziek\": 1\n",
      "          }\n",
      "        }\n",
      "      }\n",
      "    },\n",
      "    \"Privaat\": {\n",
      "      \"Oceani\\u00eb\": {\n",
      "        \"Australi\\u00eb\": {\n",
      "          \"Concert\": {\n",
      "            \"Klassieke muziek\": 4\n",
      "          }\n",
      "        }\n",
      "      },\n",
      "      \"Azi\\u00eb\": {\n",
      "        \"Singapore\": {\n",
      "          \"Concert\": {\n",
      "            \"Klassieke muziek\": 1\n",
      "          }\n",
      "        },\n",
      "        \"China\": {\n",
      "          \"Concert\": {\n",
      "            \"Klassieke muziek\": 2\n",
      "          }\n",
      "        },\n",
      "        \"Japan\": {\n",
      "          \"Concert\": {\n",
      "            \"Klassieke muziek\": 1\n",
      "          }\n",
      "        }\n",
      "      },\n",
      "      \"Zuid-Amerika\": {\n",
      "        \"Argentini\\u00eb\": {\n",
      "          \"Concert\": {\n",
      "            \"Klassieke muziek\": 1\n",
      "          }\n",
      "        }\n",
      "      },\n",
      "      \"Europa\": {\n",
      "        \"Portugal\": {\n",
      "          \"Concert\": {\n",
      "            \"Klassieke muziek\": 1\n",
      "          }\n",
      "        },\n",
      "        \"Duitsland\": {\n",
      "          \"Concert\": {\n",
      "            \"Klassieke muziek\": 2\n",
      "          }\n",
      "        },\n",
      "        \"Oostenrijk\": {\n",
      "          \"Concert\": {\n",
      "            \"Klassieke muziek\": 2\n",
      "          }\n",
      "        },\n",
      "        \"Polen\": {\n",
      "          \"Concert\": {\n",
      "            \"Klassieke muziek\": 1\n",
      "          }\n",
      "        },\n",
      "        \"Noorwegen\": {\n",
      "          \"Concert\": {\n",
      "            \"Klassieke muziek\": 1\n",
      "          }\n",
      "        },\n",
      "        \"Bulgarije\": {\n",
      "          \"Concert\": {\n",
      "            \"Klassieke muziek\": 2\n",
      "          }\n",
      "        },\n",
      "        \"Hongarije\": {\n",
      "          \"Concert\": {\n",
      "            \"Klassieke muziek\": 3\n",
      "          }\n",
      "        },\n",
      "        \"Vlaanderen\": {\n",
      "          \"Concert\": {\n",
      "            \"Klassieke muziek\": 1,\n",
      "            \"Pop en rock\": 1\n",
      "          }\n",
      "        },\n",
      "        \"Finland\": {\n",
      "          \"Concert\": {\n",
      "            \"Klassieke muziek\": 1\n",
      "          }\n",
      "        },\n",
      "        \"Nederland\": {\n",
      "          \"Concert\": {\n",
      "            \"Klassieke muziek\": 6\n",
      "          }\n",
      "        },\n",
      "        \"Spanje\": {\n",
      "          \"Concert\": {\n",
      "            \"Klassieke muziek\": 1\n",
      "          }\n",
      "        },\n",
      "        \"Verenigd Koninkrijk\": {\n",
      "          \"Concert\": {\n",
      "            \"Klassieke muziek\": 1\n",
      "          }\n",
      "        },\n",
      "        \"Frankrijk\": {\n",
      "          \"Concert\": {\n",
      "            \"Klassieke muziek\": 5\n",
      "          }\n",
      "        },\n",
      "        \"Belgi\\u00eb\": {\n",
      "          \"Concert\": {\n",
      "            \"Jazz en blues\": 3,\n",
      "            \"Klassieke muziek\": 5,\n",
      "            \"Pop en rock\": 1\n",
      "          }\n",
      "        },\n",
      "        \"Rusland\": {\n",
      "          \"Concert\": {\n",
      "            \"Klassieke muziek\": 2\n",
      "          }\n",
      "        }\n",
      "      },\n",
      "      \"Noord-Amerika\": {\n",
      "        \"Verenigde Staten\": {\n",
      "          \"Concert\": {\n",
      "            \"Klassieke muziek\": 2\n",
      "          }\n",
      "        }\n",
      "      }\n",
      "    }\n",
      "  },\n",
      "  \"provincie\": \"West Flanders\",\n",
      "  \"latitude\": 51.0413098,\n",
      "  \"longitude\": 3.3970513\n",
      "}\n"
     ]
    }
   ],
   "source": [
    "print(dumps(data[\"Ruiselede\"], indent=2))"
   ]
  },
  {
   "cell_type": "markdown",
   "metadata": {},
   "source": [
    "We kunnen nu deze gegevens samenballen in een tabel."
   ]
  },
  {
   "cell_type": "code",
   "execution_count": 51,
   "metadata": {
    "collapsed": false
   },
   "outputs": [],
   "source": [
    "lines = []\n",
    "for fusiegemeente in data:\n",
    "    lat = data[fusiegemeente][\"latitude\"]\n",
    "    lon = data[fusiegemeente][\"longitude\"]\n",
    "    prov = data[fusiegemeente][\"provincie\"]\n",
    "    for organisatie in data[fusiegemeente][\"vermeldingen\"]:\n",
    "        for continent in data[fusiegemeente][\"vermeldingen\"][organisatie]:\n",
    "            for land in data[fusiegemeente][\"vermeldingen\"][organisatie][continent]:\n",
    "                for discipline in data[fusiegemeente][\"vermeldingen\"][organisatie][continent][land]:\n",
    "                    for subdiscipline in data[fusiegemeente][\"vermeldingen\"][organisatie][continent][land][discipline]:\n",
    "                        lines.append([fusiegemeente, lat, lon, prov, continent, land, discipline, subdiscipline, organisatie,\n",
    "                                      data[fusiegemeente][\"vermeldingen\"][organisatie][continent][land][discipline][subdiscipline]])\n",
    "res = DataFrame(lines, columns=['Gemeente', 'Latitude', 'Longitude', 'Provincie', 'Continent', 'Land', 'Discipline', 'Subdiscipline', 'Typering', 'Frequentie'])"
   ]
  },
  {
   "cell_type": "markdown",
   "metadata": {},
   "source": [
    "De tabel bevat dus de volgende informatie:"
   ]
  },
  {
   "cell_type": "code",
   "execution_count": 52,
   "metadata": {
    "collapsed": false
   },
   "outputs": [
    {
     "data": {
      "text/html": [
       "<div>\n",
       "<table border=\"1\" class=\"dataframe\">\n",
       "  <thead>\n",
       "    <tr style=\"text-align: right;\">\n",
       "      <th></th>\n",
       "      <th>Gemeente</th>\n",
       "      <th>Latitude</th>\n",
       "      <th>Longitude</th>\n",
       "      <th>Provincie</th>\n",
       "      <th>Continent</th>\n",
       "      <th>Land</th>\n",
       "      <th>Discipline</th>\n",
       "      <th>Subdiscipline</th>\n",
       "      <th>Typering</th>\n",
       "      <th>Frequentie</th>\n",
       "    </tr>\n",
       "  </thead>\n",
       "  <tbody>\n",
       "    <tr>\n",
       "      <th>0</th>\n",
       "      <td>Ruiselede</td>\n",
       "      <td>51.04131</td>\n",
       "      <td>3.397051</td>\n",
       "      <td>West Flanders</td>\n",
       "      <td>Europa</td>\n",
       "      <td>Polen</td>\n",
       "      <td>Concert</td>\n",
       "      <td>Klassieke muziek</td>\n",
       "      <td>NaN</td>\n",
       "      <td>2</td>\n",
       "    </tr>\n",
       "    <tr>\n",
       "      <th>1</th>\n",
       "      <td>Ruiselede</td>\n",
       "      <td>51.04131</td>\n",
       "      <td>3.397051</td>\n",
       "      <td>West Flanders</td>\n",
       "      <td>Europa</td>\n",
       "      <td>Verenigd Koninkrijk</td>\n",
       "      <td>Concert</td>\n",
       "      <td>Klassieke muziek</td>\n",
       "      <td>NaN</td>\n",
       "      <td>2</td>\n",
       "    </tr>\n",
       "    <tr>\n",
       "      <th>2</th>\n",
       "      <td>Ruiselede</td>\n",
       "      <td>51.04131</td>\n",
       "      <td>3.397051</td>\n",
       "      <td>West Flanders</td>\n",
       "      <td>Europa</td>\n",
       "      <td>België</td>\n",
       "      <td>Tentoonstelling</td>\n",
       "      <td>Installatiekunst</td>\n",
       "      <td>NaN</td>\n",
       "      <td>1</td>\n",
       "    </tr>\n",
       "    <tr>\n",
       "      <th>3</th>\n",
       "      <td>Ruiselede</td>\n",
       "      <td>51.04131</td>\n",
       "      <td>3.397051</td>\n",
       "      <td>West Flanders</td>\n",
       "      <td>Afrika</td>\n",
       "      <td>Congo-Kinshasa</td>\n",
       "      <td>Concert</td>\n",
       "      <td>Thema onbepaald</td>\n",
       "      <td>Sociaal-cultureel en amateur</td>\n",
       "      <td>1</td>\n",
       "    </tr>\n",
       "    <tr>\n",
       "      <th>4</th>\n",
       "      <td>Ruiselede</td>\n",
       "      <td>51.04131</td>\n",
       "      <td>3.397051</td>\n",
       "      <td>West Flanders</td>\n",
       "      <td>Noord-Amerika</td>\n",
       "      <td>Verenigde Staten</td>\n",
       "      <td>Concert</td>\n",
       "      <td>Folk en wereldmuziek</td>\n",
       "      <td>Rest</td>\n",
       "      <td>1</td>\n",
       "    </tr>\n",
       "  </tbody>\n",
       "</table>\n",
       "</div>"
      ],
      "text/plain": [
       "    Gemeente  Latitude  Longitude      Provincie      Continent  \\\n",
       "0  Ruiselede  51.04131   3.397051  West Flanders         Europa   \n",
       "1  Ruiselede  51.04131   3.397051  West Flanders         Europa   \n",
       "2  Ruiselede  51.04131   3.397051  West Flanders         Europa   \n",
       "3  Ruiselede  51.04131   3.397051  West Flanders         Afrika   \n",
       "4  Ruiselede  51.04131   3.397051  West Flanders  Noord-Amerika   \n",
       "\n",
       "                  Land       Discipline         Subdiscipline  \\\n",
       "0                Polen          Concert      Klassieke muziek   \n",
       "1  Verenigd Koninkrijk          Concert      Klassieke muziek   \n",
       "2               België  Tentoonstelling      Installatiekunst   \n",
       "3       Congo-Kinshasa          Concert       Thema onbepaald   \n",
       "4     Verenigde Staten          Concert  Folk en wereldmuziek   \n",
       "\n",
       "                       Typering  Frequentie  \n",
       "0                           NaN           2  \n",
       "1                           NaN           2  \n",
       "2                           NaN           1  \n",
       "3  Sociaal-cultureel en amateur           1  \n",
       "4                          Rest           1  "
      ]
     },
     "execution_count": 52,
     "metadata": {},
     "output_type": "execute_result"
    }
   ],
   "source": [
    "res.head()"
   ]
  },
  {
   "cell_type": "markdown",
   "metadata": {},
   "source": [
    "We schrijven tot slot deze tabel uit naar een CSV bestand voor verdere analyse."
   ]
  },
  {
   "cell_type": "code",
   "execution_count": 53,
   "metadata": {
    "collapsed": true
   },
   "outputs": [],
   "source": [
    "res.to_csv(\"landsvermeldingen.csv\")"
   ]
  },
  {
   "cell_type": "markdown",
   "metadata": {},
   "source": [
    "## Paren van landsvermeldingen\n",
    "\n",
    "Een andere interessante is om paartjes van landsvermeldingen te zien. Wordt Frankrijk vaak met Tunisie in 1 event aangehaald? Of Duitsland met Oostenrijk?"
   ]
  }
 ],
 "metadata": {
  "kernelspec": {
   "display_name": "Python 3",
   "language": "python",
   "name": "python3"
  },
  "language_info": {
   "codemirror_mode": {
    "name": "ipython",
    "version": 3
   },
   "file_extension": ".py",
   "mimetype": "text/x-python",
   "name": "python",
   "nbconvert_exporter": "python",
   "pygments_lexer": "ipython3",
   "version": "3.5.2"
  }
 },
 "nbformat": 4,
 "nbformat_minor": 0
}
