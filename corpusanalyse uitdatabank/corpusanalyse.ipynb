{
 "cells": [
  {
   "cell_type": "markdown",
   "metadata": {},
   "source": [
    "# Corpusanalyse UiTdatabank\n",
    "\n",
    "We hebben de volgende bibliotheken nodig:"
   ]
  },
  {
   "cell_type": "code",
   "execution_count": 1,
   "metadata": {
    "collapsed": false
   },
   "outputs": [],
   "source": [
    "from pandas import read_excel, read_csv, DataFrame, Series, concat\n",
    "from datetime import datetime\n",
    "from codecs import open\n",
    "from re import compile\n",
    "from json import dumps\n",
    "from datetime import datetime\n",
    "from random import sample\n",
    "from collections import Counter\n",
    "from itertools import combinations"
   ]
  },
  {
   "cell_type": "markdown",
   "metadata": {},
   "source": [
    "Dan lezen we lezen de gegevens in"
   ]
  },
  {
   "cell_type": "code",
   "execution_count": 2,
   "metadata": {
    "collapsed": false
   },
   "outputs": [],
   "source": [
    "df_podium = read_excel(\"ruwe data/podium.xlsx\", sheetname='theaterdans1014')\n",
    "df_bk = read_excel(\"ruwe data/beeldendekunsten.xlsx\", sheetname='UitRapport')\n",
    "df_muziek = read_excel(\"ruwe data/muziek.xlsx\", sheetname='Int nat reg')\n",
    "df_podium[\"Organisator\"] = df_podium[\"Typologie organisator\"]\n",
    "df_podium = df_podium[df_podium[\"Datum\"].between(datetime(2014, 1, 1), datetime(2014, 12, 31))]"
   ]
  },
  {
   "cell_type": "markdown",
   "metadata": {},
   "source": [
    "## Samenbrengen en voorbereiden van de data"
   ]
  },
  {
   "cell_type": "markdown",
   "metadata": {},
   "source": [
    "Voor de muziekgegevens moeten we nog controleren dat concerten eventuele herhalingen hebben, door in de speelmomenten kolom na te gaan wat de speelmomenten zijn. Dit is niet nodig bij de beeldende kunsten, aangezien daar de unit of analysis de tentoonstelling is, onafhankelijk van hoelang die tentoonstelling loopt. Bij podiumkunsten zijn de speelmomenten manueel gecheckt, ocharme simon."
   ]
  },
  {
   "cell_type": "code",
   "execution_count": 3,
   "metadata": {
    "collapsed": false
   },
   "outputs": [],
   "source": [
    "datumregex = compile(r\"\\d\\d/\\d\\d/\\d\\d\")\n",
    "df_muziek_expanded = df_muziek.copy()\n",
    "for row in df_muziek_expanded.iterrows():\n",
    "    speelmomenten = row[1][\"Speelmomenten\"]\n",
    "    if str(speelmomenten) != \"nan\":    \n",
    "        for speelmoment in datumregex.findall(speelmomenten):\n",
    "            speelmoment_dt = datetime(int(\"20\" + speelmoment.split(\"/\")[2]), \n",
    "                                      int(speelmoment.split(\"/\")[1]), \n",
    "                                      int(speelmoment.split(\"/\")[0]))\n",
    "            if speelmoment_dt != row[1][\"Datum\"]:\n",
    "                df_muziek_expanded = df_muziek_expanded.append(\n",
    "                    Series(\n",
    "                        {\"Discipline\": row[1][\"Discipline\"],\n",
    "                         \"Subdiscipline\": row[1][\"Subdiscipline\"],\n",
    "                         \"Tekst\": row[1][\"Tekst\"],\n",
    "                         \"Datum\": speelmoment_dt,\n",
    "                         \"Gemeente\": row[1][\"Gemeente\"]\n",
    "                        }, name=speelmoment_dt.isoformat() + \" \" + str(row[0])\n",
    "                    )\n",
    "                )\n",
    "df_muziek_expanded = df_muziek_expanded[df_muziek_expanded[\"Datum\"].between(datetime(2014, 1, 1), datetime(2014, 12, 31))]"
   ]
  },
  {
   "cell_type": "markdown",
   "metadata": {},
   "source": [
    "Voor de tentoonstellingen moeten we ook nog inperken op thema, en ook de permanente tentoonstellingen eruit zwieren. Bvendien lopen tentoonstellingen ook gedurende een zekere periode, dus we moeten ook controleren op tentoonstellingen die nog voor 1 januari 2014 beginnen, maar wel nog tijdens 2014 lopen. Idem voor einde van het jaar."
   ]
  },
  {
   "cell_type": "code",
   "execution_count": 4,
   "metadata": {
    "collapsed": false
   },
   "outputs": [],
   "source": [
    "subdisciplines = [\"Beeldhouwkunst\", \n",
    "                  \"Fotografie\", \n",
    "                  \"Grafiek\", \n",
    "                  \"Installatiekunst\", \n",
    "                  \"Kunst en kunsteducatie\", \n",
    "                  \"Meerdere kunstvormen\", \n",
    "                  \"Schilderkunst\"]\n",
    "df_bk_filtered = df_bk[df_bk[\"Datum tot\"] != datetime(1900, 1, 1)]\n",
    "df_bk_filtered = df_bk_filtered[df_bk_filtered[\"Subdiscipline\"].isin(subdisciplines)]\n",
    "df_bk_filtered = df_bk_filtered[\n",
    "    (df_bk_filtered[\"Datum van\"].between(datetime(2014, 1, 1), datetime(2014, 12, 31))) |\n",
    "    (df_bk_filtered[\"Datum tot\"].between(datetime(2014, 1, 1), datetime(2014, 12, 31)))\n",
    "]\n",
    "df_bk_filtered[\"Datum\"] = df_bk_filtered[\"Datum van\"]\n",
    "df_bk_filtered = df_bk_filtered.drop([\"Datum van\", \"Datum tot\"], axis=1)"
   ]
  },
  {
   "cell_type": "markdown",
   "metadata": {},
   "source": [
    "We gaan nu de de organisator omzetten naar een typering. We moeten eerst beginnen met die mapping van organisator naar typering op te bouwen op basis van de gegevens die Simon wist aan te leveren."
   ]
  },
  {
   "cell_type": "code",
   "execution_count": 5,
   "metadata": {
    "collapsed": false
   },
   "outputs": [],
   "source": [
    "typering = read_excel(\"extra gegevens/typologie-organisatoren-plat.xlsx\")"
   ]
  },
  {
   "cell_type": "code",
   "execution_count": 6,
   "metadata": {
    "collapsed": true
   },
   "outputs": [],
   "source": [
    "def simplify_key(k):\n",
    "    return str(str(k).lower().strip().replace(\" \", \"\").encode(\"ascii\", \"replace\")).replace(\"?\", \"\").replace(\"_\", \"\").replace('\"', '').lstrip(\"b'\").rstrip(\"'\").replace('\"', '').replace(\"'\", \"\").replace(\".\", \"\").replace(\",\", \"\")"
   ]
  },
  {
   "cell_type": "code",
   "execution_count": 7,
   "metadata": {
    "collapsed": true
   },
   "outputs": [],
   "source": [
    "def map_organisator_naar_typologie_plat(item, mapping):\n",
    "    key = simplify_key(item)\n",
    "    try:\n",
    "        return mapping[mapping[\"key\"] == key][\"value\"].values[0]\n",
    "    except IndexError:\n",
    "        onmapbaar.add(key)"
   ]
  },
  {
   "cell_type": "code",
   "execution_count": 8,
   "metadata": {
    "collapsed": false
   },
   "outputs": [],
   "source": [
    "onmapbaar = set()\n",
    "\n",
    "df_bk_filtered[\"typering\"] = df_bk_filtered[\"Organisator\"].apply(map_organisator_naar_typologie_plat, args=(typering,))\n",
    "df_muziek_expanded[\"typering\"] = df_muziek_expanded[\"Organisator\"].apply(map_organisator_naar_typologie_plat, args=(typering,))\n",
    "df_podium[\"typering\"] = df_podium[\"Organisator\"].apply(map_organisator_naar_typologie_plat, args=(typering,))"
   ]
  },
  {
   "cell_type": "markdown",
   "metadata": {},
   "source": [
    "Nu voegen we alles mooi samen, selecteren enkel de juiste kolommen, en gooien ook duplicaten op basis van datum, gemeente en tekst eruit. Bovendien hebben we de kolom met speelmomenten ook niet meer nodig."
   ]
  },
  {
   "cell_type": "code",
   "execution_count": 24,
   "metadata": {
    "collapsed": false
   },
   "outputs": [],
   "source": [
    "df_muziek_expanded_clean = df_muziek_expanded.drop(\"Speelmomenten\", axis=1)\n",
    "df_podium_clean = df_podium.drop(\"Typologie organisator\", axis=1)\n",
    "df = concat([df_podium_clean, df_bk_filtered, df_muziek_expanded_clean])\n",
    "df.drop_duplicates(subset=[\"Datum\", \"Titel\", \"Discipline\", \"Subdiscipline\", \"Gemeente\", \"Tekst\"], inplace=True)\n",
    "df.drop([\"Titel\", \"Organisator\"], axis=1, inplace=True)"
   ]
  },
  {
   "cell_type": "markdown",
   "metadata": {},
   "source": [
    "We kunnen kort inspecteren hoe deze data eruitzien."
   ]
  },
  {
   "cell_type": "code",
   "execution_count": 18,
   "metadata": {
    "collapsed": false
   },
   "outputs": [
    {
     "data": {
      "text/html": [
       "<div>\n",
       "<table border=\"1\" class=\"dataframe\">\n",
       "  <thead>\n",
       "    <tr style=\"text-align: right;\">\n",
       "      <th></th>\n",
       "      <th>Datum</th>\n",
       "      <th>Discipline</th>\n",
       "      <th>Gemeente</th>\n",
       "      <th>Subdiscipline</th>\n",
       "      <th>Tekst</th>\n",
       "      <th>typering</th>\n",
       "    </tr>\n",
       "  </thead>\n",
       "  <tbody>\n",
       "    <tr>\n",
       "      <th>747</th>\n",
       "      <td>2014-04-02 00:00:00</td>\n",
       "      <td>podium</td>\n",
       "      <td>Brussel</td>\n",
       "      <td>Dans</td>\n",
       "      <td>Shen Yun brengt 5.000 jaar Chinese beschaving ...</td>\n",
       "      <td>Rest</td>\n",
       "    </tr>\n",
       "    <tr>\n",
       "      <th>748</th>\n",
       "      <td>2014-04-03 00:00:00</td>\n",
       "      <td>podium</td>\n",
       "      <td>Brussel</td>\n",
       "      <td>Dans</td>\n",
       "      <td>Shen Yun brengt 5.000 jaar Chinese beschaving ...</td>\n",
       "      <td>Rest</td>\n",
       "    </tr>\n",
       "    <tr>\n",
       "      <th>749</th>\n",
       "      <td>2014-04-04 00:00:00</td>\n",
       "      <td>podium</td>\n",
       "      <td>Brussel</td>\n",
       "      <td>Dans</td>\n",
       "      <td>Shen Yun brengt 5.000 jaar Chinese beschaving ...</td>\n",
       "      <td>Rest</td>\n",
       "    </tr>\n",
       "    <tr>\n",
       "      <th>750</th>\n",
       "      <td>2014-04-05 00:00:00</td>\n",
       "      <td>podium</td>\n",
       "      <td>Brussel</td>\n",
       "      <td>Dans</td>\n",
       "      <td>Shen Yun brengt 5.000 jaar Chinese beschaving ...</td>\n",
       "      <td>Rest</td>\n",
       "    </tr>\n",
       "    <tr>\n",
       "      <th>752</th>\n",
       "      <td>2014-04-06 00:00:00</td>\n",
       "      <td>podium</td>\n",
       "      <td>Brussel</td>\n",
       "      <td>Dans</td>\n",
       "      <td>Shen Yun brengt 5.000 jaar Chinese beschaving ...</td>\n",
       "      <td>Rest</td>\n",
       "    </tr>\n",
       "  </tbody>\n",
       "</table>\n",
       "</div>"
      ],
      "text/plain": [
       "                   Datum Discipline Gemeente Subdiscipline  \\\n",
       "747  2014-04-02 00:00:00     podium  Brussel          Dans   \n",
       "748  2014-04-03 00:00:00     podium  Brussel          Dans   \n",
       "749  2014-04-04 00:00:00     podium  Brussel          Dans   \n",
       "750  2014-04-05 00:00:00     podium  Brussel          Dans   \n",
       "752  2014-04-06 00:00:00     podium  Brussel          Dans   \n",
       "\n",
       "                                                 Tekst typering  \n",
       "747  Shen Yun brengt 5.000 jaar Chinese beschaving ...     Rest  \n",
       "748  Shen Yun brengt 5.000 jaar Chinese beschaving ...     Rest  \n",
       "749  Shen Yun brengt 5.000 jaar Chinese beschaving ...     Rest  \n",
       "750  Shen Yun brengt 5.000 jaar Chinese beschaving ...     Rest  \n",
       "752  Shen Yun brengt 5.000 jaar Chinese beschaving ...     Rest  "
      ]
     },
     "execution_count": 18,
     "metadata": {},
     "output_type": "execute_result"
    }
   ],
   "source": [
    "df.head()"
   ]
  },
  {
   "cell_type": "markdown",
   "metadata": {},
   "source": [
    "We zien dat elke lijn een event beschrijving bevat, de plaats waar een event plaatsvindt, en ook de datum. Merk op dat events die op meerdere dagen plaatsvinden een aparte lijn krijgen. We zullen hiermee rekening houden in de interpretatie van de resultaten."
   ]
  },
  {
   "cell_type": "markdown",
   "metadata": {},
   "source": [
    "Telling per discipline van het aantal unieke events:"
   ]
  },
  {
   "cell_type": "code",
   "execution_count": 12,
   "metadata": {
    "collapsed": false
   },
   "outputs": [
    {
     "data": {
      "text/plain": [
       "Concert            20500\n",
       "podium             19415\n",
       "Tentoonstelling     3770\n",
       "Name: Discipline, dtype: int64"
      ]
     },
     "execution_count": 12,
     "metadata": {},
     "output_type": "execute_result"
    }
   ],
   "source": [
    "df[\"Discipline\"].value_counts()"
   ]
  },
  {
   "cell_type": "markdown",
   "metadata": {},
   "source": [
    "En hoeveel daarvan hebben geen beschrijving?"
   ]
  },
  {
   "cell_type": "code",
   "execution_count": 13,
   "metadata": {
    "collapsed": false
   },
   "outputs": [
    {
     "name": "stdout",
     "output_type": "stream",
     "text": [
      "podium 1521 concert 1844 beeldend 51\n"
     ]
    }
   ],
   "source": [
    "print(\"podium\", len(df[(df[\"Tekst\"].str.strip() == \"\") & (df[\"Discipline\"] == \"podium\")][\"Tekst\"]),\n",
    "      \"concert\", len(df[(df[\"Tekst\"].str.strip() == \"\") & (df[\"Discipline\"] == \"Concert\")][\"Tekst\"]),\n",
    "      \"beeldend\", len(df[(df[\"Tekst\"].str.strip() == \"\") & (df[\"Discipline\"] == \"Tentoonstelling\")][\"Tekst\"]))"
   ]
  },
  {
   "cell_type": "markdown",
   "metadata": {},
   "source": [
    "Zo, we kunnen deze dataset nu mooi uitschrijven naar een Excel bestand, zodat Simon nog enkele laatste correcties en aanvullingen kan doorvoeren."
   ]
  },
  {
   "cell_type": "code",
   "execution_count": 25,
   "metadata": {
    "collapsed": false
   },
   "outputs": [],
   "source": [
    "def encode(item):\n",
    "    return item.replace(\"\\x08\", \"\")\n",
    "\n",
    "df[\"Tekst\"] = df[\"Tekst\"].apply(encode)"
   ]
  },
  {
   "cell_type": "code",
   "execution_count": 28,
   "metadata": {
    "collapsed": false
   },
   "outputs": [],
   "source": [
    "df.to_excel(\"samengevoegde data/df.xlsx\")"
   ]
  },
  {
   "cell_type": "markdown",
   "metadata": {},
   "source": [
    "## Landsvermeldingen\n",
    "\n",
    "Na de manuele correctie van Simon kunnen we nu aan de slag met een propere dataset, die we dan hier nu ook inlezen."
   ]
  },
  {
   "cell_type": "code",
   "execution_count": 29,
   "metadata": {
    "collapsed": false
   },
   "outputs": [],
   "source": [
    "df = read_excel(\"samengevoegde data/df.xlsx\")"
   ]
  },
  {
   "cell_type": "markdown",
   "metadata": {},
   "source": [
    "We kunnen voor de volledigheid eventjes een overzicht maken van (organisatoren, discipline)."
   ]
  },
  {
   "cell_type": "code",
   "execution_count": 30,
   "metadata": {
    "collapsed": false
   },
   "outputs": [
    {
     "data": {
      "text/plain": [
       "typering                       Discipline     \n",
       "Andere overheden               Concert            1585\n",
       "                               Tentoonstelling      48\n",
       "                               podium             2183\n",
       "Lokaal (cultuur)beleid         Concert            3847\n",
       "                               Tentoonstelling     809\n",
       "                               podium             6241\n",
       "Onderwijs                      Concert             378\n",
       "                               Tentoonstelling     103\n",
       "                               podium              327\n",
       "Privaat                        Concert            3120\n",
       "                               Tentoonstelling     481\n",
       "                               podium             2847\n",
       "Rest                           Concert             922\n",
       "                               Tentoonstelling      72\n",
       "                               podium              297\n",
       "Sociaal-cultureel en amateur   Concert            2653\n",
       "                               Tentoonstelling     258\n",
       "                               podium             4188\n",
       "Vlaams gesubsidieerde kunsten  Concert            2759\n",
       "                               Tentoonstelling     314\n",
       "                               podium             2563\n",
       "dtype: int64"
      ]
     },
     "execution_count": 30,
     "metadata": {},
     "output_type": "execute_result"
    }
   ],
   "source": [
    "df.groupby([\"typering\", \"Discipline\"]).size()"
   ]
  },
  {
   "cell_type": "markdown",
   "metadata": {},
   "source": [
    "Voor onze analyse hebben we ook nood aan een lijst van namen van landen, coordinaten voor de plaatsnamen, en ook een manueel gemaakte mapping om de plaatsnamen in de UiTdatabank gegevens te normaliseren."
   ]
  },
  {
   "cell_type": "code",
   "execution_count": 31,
   "metadata": {
    "collapsed": false
   },
   "outputs": [],
   "source": [
    "typering = read_csv(\"extra gegevens/mapping_udb-gemeente_fusie-gemeente.csv\", delimiter=';')\n",
    "coord = read_csv(\"extra gegevens/coordinaten.csv\", delimiter=';')\n",
    "landen = read_excel(\"extra gegevens/landen.xlsx\", sheetname=\"uitgebreide lijst 2014\")"
   ]
  },
  {
   "cell_type": "markdown",
   "metadata": {},
   "source": [
    "Laten we even in detail deze tabellen bekijken. De landen:"
   ]
  },
  {
   "cell_type": "code",
   "execution_count": 32,
   "metadata": {
    "collapsed": false
   },
   "outputs": [
    {
     "data": {
      "text/html": [
       "<div>\n",
       "<table border=\"1\" class=\"dataframe\">\n",
       "  <thead>\n",
       "    <tr style=\"text-align: right;\">\n",
       "      <th></th>\n",
       "      <th>Continent (staatkundig)</th>\n",
       "      <th>Land</th>\n",
       "      <th>Soort mention</th>\n",
       "      <th>Mention</th>\n",
       "    </tr>\n",
       "  </thead>\n",
       "  <tbody>\n",
       "    <tr>\n",
       "      <th>0</th>\n",
       "      <td>Azië</td>\n",
       "      <td>Afghanistan</td>\n",
       "      <td>korte landnaam</td>\n",
       "      <td>Afghanistan</td>\n",
       "    </tr>\n",
       "    <tr>\n",
       "      <th>1</th>\n",
       "      <td>Azië</td>\n",
       "      <td>Afghanistan</td>\n",
       "      <td>inwoner</td>\n",
       "      <td>Afghaan</td>\n",
       "    </tr>\n",
       "    <tr>\n",
       "      <th>2</th>\n",
       "      <td>Azië</td>\n",
       "      <td>Afghanistan</td>\n",
       "      <td>inwoner</td>\n",
       "      <td>Afghanen</td>\n",
       "    </tr>\n",
       "    <tr>\n",
       "      <th>3</th>\n",
       "      <td>Azië</td>\n",
       "      <td>Afghanistan</td>\n",
       "      <td>adjectief</td>\n",
       "      <td>Afghaans</td>\n",
       "    </tr>\n",
       "    <tr>\n",
       "      <th>4</th>\n",
       "      <td>Azië</td>\n",
       "      <td>Afghanistan</td>\n",
       "      <td>adjectief</td>\n",
       "      <td>Afghaanse</td>\n",
       "    </tr>\n",
       "  </tbody>\n",
       "</table>\n",
       "</div>"
      ],
      "text/plain": [
       "  Continent (staatkundig)         Land   Soort mention      Mention\n",
       "0                    Azië  Afghanistan  korte landnaam  Afghanistan\n",
       "1                    Azië  Afghanistan         inwoner      Afghaan\n",
       "2                    Azië  Afghanistan         inwoner     Afghanen\n",
       "3                    Azië  Afghanistan       adjectief     Afghaans\n",
       "4                    Azië  Afghanistan       adjectief    Afghaanse"
      ]
     },
     "execution_count": 32,
     "metadata": {},
     "output_type": "execute_result"
    }
   ],
   "source": [
    "landen.head()"
   ]
  },
  {
   "cell_type": "markdown",
   "metadata": {},
   "source": [
    "Voor elk land weten we in welk (staatkundig) continent het ligt, en we hebben in de kolom 'Mention' verschillende manieren waarop dat land kan voorkomen in de tekst.\n",
    "\n",
    "Bij typering zien we het volgende:"
   ]
  },
  {
   "cell_type": "code",
   "execution_count": 33,
   "metadata": {
    "collapsed": false
   },
   "outputs": [
    {
     "data": {
      "text/html": [
       "<div>\n",
       "<table border=\"1\" class=\"dataframe\">\n",
       "  <thead>\n",
       "    <tr style=\"text-align: right;\">\n",
       "      <th></th>\n",
       "      <th>Gemeente Origineel</th>\n",
       "      <th>Postcode</th>\n",
       "      <th>Fusiegemeente</th>\n",
       "      <th>Stedelijkheid fusiegemeenten</th>\n",
       "      <th>Gemeente cluster</th>\n",
       "      <th>Province (English)</th>\n",
       "      <th>Country (English)</th>\n",
       "      <th>Provincie</th>\n",
       "      <th>Stedelijkheid</th>\n",
       "    </tr>\n",
       "  </thead>\n",
       "  <tbody>\n",
       "    <tr>\n",
       "      <th>932</th>\n",
       "      <td>Kleine-Brogel (Peer)</td>\n",
       "      <td>NaN</td>\n",
       "      <td>Peer</td>\n",
       "      <td>Niet-stedelijk</td>\n",
       "      <td>Peer</td>\n",
       "      <td>Limburg</td>\n",
       "      <td>Belgium</td>\n",
       "      <td>Limburg</td>\n",
       "      <td>Niet-stedelijk</td>\n",
       "    </tr>\n",
       "    <tr>\n",
       "      <th>933</th>\n",
       "      <td>Meilegem (Zwalm)</td>\n",
       "      <td>NaN</td>\n",
       "      <td>Zwalm</td>\n",
       "      <td>Niet-stedelijk</td>\n",
       "      <td>Zwalm</td>\n",
       "      <td>East Flanders</td>\n",
       "      <td>Belgium</td>\n",
       "      <td>Oost-Vlaanderen</td>\n",
       "      <td>Niet-stedelijk</td>\n",
       "    </tr>\n",
       "    <tr>\n",
       "      <th>934</th>\n",
       "      <td>Beek (Bree)</td>\n",
       "      <td>NaN</td>\n",
       "      <td>Bree</td>\n",
       "      <td>Niet-stedelijk</td>\n",
       "      <td>Bree</td>\n",
       "      <td>Limburg</td>\n",
       "      <td>Belgium</td>\n",
       "      <td>Limburg</td>\n",
       "      <td>Niet-stedelijk</td>\n",
       "    </tr>\n",
       "    <tr>\n",
       "      <th>935</th>\n",
       "      <td>Oetingen (Gooik)</td>\n",
       "      <td>NaN</td>\n",
       "      <td>Gooik</td>\n",
       "      <td>Niet-stedelijk</td>\n",
       "      <td>Gooik</td>\n",
       "      <td>Flemish Brabant</td>\n",
       "      <td>Belgium</td>\n",
       "      <td>Vlaams-Brabant</td>\n",
       "      <td>Niet-stedelijk</td>\n",
       "    </tr>\n",
       "    <tr>\n",
       "      <th>936</th>\n",
       "      <td>Vaalbeek (Oud-Heverlee)</td>\n",
       "      <td>NaN</td>\n",
       "      <td>Oud-Heverlee</td>\n",
       "      <td>Niet-stedelijk</td>\n",
       "      <td>Oud-Heverlee</td>\n",
       "      <td>Flemish Brabant</td>\n",
       "      <td>Belgium</td>\n",
       "      <td>Vlaams-Brabant</td>\n",
       "      <td>Niet-stedelijk</td>\n",
       "    </tr>\n",
       "  </tbody>\n",
       "</table>\n",
       "</div>"
      ],
      "text/plain": [
       "          Gemeente Origineel  Postcode Fusiegemeente  \\\n",
       "932     Kleine-Brogel (Peer)       NaN          Peer   \n",
       "933         Meilegem (Zwalm)       NaN         Zwalm   \n",
       "934              Beek (Bree)       NaN          Bree   \n",
       "935         Oetingen (Gooik)       NaN         Gooik   \n",
       "936  Vaalbeek (Oud-Heverlee)       NaN  Oud-Heverlee   \n",
       "\n",
       "    Stedelijkheid fusiegemeenten Gemeente cluster Province (English)  \\\n",
       "932               Niet-stedelijk             Peer            Limburg   \n",
       "933               Niet-stedelijk            Zwalm      East Flanders   \n",
       "934               Niet-stedelijk             Bree            Limburg   \n",
       "935               Niet-stedelijk            Gooik    Flemish Brabant   \n",
       "936               Niet-stedelijk     Oud-Heverlee    Flemish Brabant   \n",
       "\n",
       "    Country (English)        Provincie   Stedelijkheid  \n",
       "932           Belgium          Limburg  Niet-stedelijk  \n",
       "933           Belgium  Oost-Vlaanderen  Niet-stedelijk  \n",
       "934           Belgium          Limburg  Niet-stedelijk  \n",
       "935           Belgium   Vlaams-Brabant  Niet-stedelijk  \n",
       "936           Belgium   Vlaams-Brabant  Niet-stedelijk  "
      ]
     },
     "execution_count": 33,
     "metadata": {},
     "output_type": "execute_result"
    }
   ],
   "source": [
    "typering.tail()"
   ]
  },
  {
   "cell_type": "markdown",
   "metadata": {},
   "source": [
    "De kolom Gemeente Origineel is de naam van de gemeente in de uitdatabank gegevens, en we kunnen de naam in de kolom Fusiegemeente en Province (English) gebruiken om een genormaliseerd zicht te krijgen.\n",
    "\n",
    "Tot slot hebben we nog de coordinaten:"
   ]
  },
  {
   "cell_type": "code",
   "execution_count": 34,
   "metadata": {
    "collapsed": false
   },
   "outputs": [
    {
     "data": {
      "text/html": [
       "<div>\n",
       "<table border=\"1\" class=\"dataframe\">\n",
       "  <thead>\n",
       "    <tr style=\"text-align: right;\">\n",
       "      <th></th>\n",
       "      <th>Fusiegemeente</th>\n",
       "      <th>adress</th>\n",
       "      <th>latitude</th>\n",
       "      <th>longitude</th>\n",
       "    </tr>\n",
       "  </thead>\n",
       "  <tbody>\n",
       "    <tr>\n",
       "      <th>0</th>\n",
       "      <td>Aalst</td>\n",
       "      <td>Aalst, Belgium</td>\n",
       "      <td>50,9378101</td>\n",
       "      <td>4,0409517</td>\n",
       "    </tr>\n",
       "    <tr>\n",
       "      <th>1</th>\n",
       "      <td>Aalter</td>\n",
       "      <td>Aalter, Belgium</td>\n",
       "      <td>51,087349</td>\n",
       "      <td>3,448371</td>\n",
       "    </tr>\n",
       "    <tr>\n",
       "      <th>2</th>\n",
       "      <td>Aarschot</td>\n",
       "      <td>Aarschot, Belgium</td>\n",
       "      <td>50,9859959</td>\n",
       "      <td>4,8365218</td>\n",
       "    </tr>\n",
       "    <tr>\n",
       "      <th>3</th>\n",
       "      <td>Aartselaar</td>\n",
       "      <td>Aartselaar, Belgium</td>\n",
       "      <td>51,1340539</td>\n",
       "      <td>4,3844742</td>\n",
       "    </tr>\n",
       "    <tr>\n",
       "      <th>4</th>\n",
       "      <td>Affligem</td>\n",
       "      <td>Affligem, Belgium</td>\n",
       "      <td>50,9084</td>\n",
       "      <td>4,11281</td>\n",
       "    </tr>\n",
       "  </tbody>\n",
       "</table>\n",
       "</div>"
      ],
      "text/plain": [
       "  Fusiegemeente               adress    latitude  longitude\n",
       "0         Aalst       Aalst, Belgium  50,9378101  4,0409517\n",
       "1        Aalter      Aalter, Belgium   51,087349   3,448371\n",
       "2      Aarschot    Aarschot, Belgium  50,9859959  4,8365218\n",
       "3    Aartselaar  Aartselaar, Belgium  51,1340539  4,3844742\n",
       "4      Affligem    Affligem, Belgium     50,9084    4,11281"
      ]
     },
     "execution_count": 34,
     "metadata": {},
     "output_type": "execute_result"
    }
   ],
   "source": [
    "coord.head()"
   ]
  },
  {
   "cell_type": "markdown",
   "metadata": {},
   "source": [
    "Hiermee kunnen we voor iedere Fusiegemeente (zie vorige tabel) de latitude en longitude ophalen."
   ]
  },
  {
   "cell_type": "markdown",
   "metadata": {},
   "source": [
    "Nu gaan we voor ieder event in de UiTdatabankgegevens na welk land er vermeld wordt in de beschrijving van dat event. We houden ook al onmiddellijk bij wat de genormaliseerde naam is van de gemeente en de coordinaten van het centrum. Bovendien tellen we binnen het land ook nog de verschillende disciplines en subdisciplines."
   ]
  },
  {
   "cell_type": "code",
   "execution_count": 35,
   "metadata": {
    "collapsed": false
   },
   "outputs": [
    {
     "name": "stdout",
     "output_type": "stream",
     "text": [
      "5000 of 43685\n",
      "10000 of 43685\n",
      "15000 of 43685\n",
      "20000 of 43685\n",
      "25000 of 43685\n",
      "30000 of 43685\n",
      "35000 of 43685\n",
      "Lessines geeft een probleem: index 0 is out of bounds for axis 0 with size 0\n",
      "Charleroi geeft een probleem: index 0 is out of bounds for axis 0 with size 0\n",
      "40000 of 43685\n"
     ]
    }
   ],
   "source": [
    "data = {}\n",
    "niet_vlaams = [\"Jodoigne\", \"Tournai\", \"Escanaffles\", \"Houffalize\", \"Haulchin\", \n",
    "               \"Braine l'Alleud\", \"Tourinnes-la-Grosse\", \"Liège\", \"Marchienne-au-Pont\", \"Eupen\"]\n",
    "count = 1\n",
    "for row in df.iterrows():\n",
    "    if count % 5000 == 0:\n",
    "        print(count, \"of\", len(df.index))\n",
    "    count += 1\n",
    "    tekst = row[1][\"Tekst\"]\n",
    "    gemeente = row[1][\"Gemeente\"]\n",
    "    organisatie = row[1][\"typering\"]\n",
    "    if str(gemeente) != \"nan\" and str(gemeente) not in niet_vlaams:\n",
    "        for land in set(landen[\"Land\"].values):\n",
    "            regex = compile(r\"\\b(\" + r\"|\".join(landen[landen[\"Land\"] == land][\"Mention\"]) + r\")\\b\")\n",
    "            amount_of_mentions = len(regex.findall(str(tekst)))\n",
    "            if amount_of_mentions > 0:\n",
    "                try:\n",
    "                    typeringlijn = typering[typering[\"Gemeente Origineel\"] == gemeente]\n",
    "                    fusiegemeente = typeringlijn[\"Fusiegemeente\"].values[0]\n",
    "                    provincie = typeringlijn[\"Province (English)\"].values[0]\n",
    "                    lat = coord[coord[\"Fusiegemeente\"] == fusiegemeente][\"latitude\"].values[0]\n",
    "                    lon = coord[coord[\"Fusiegemeente\"] == fusiegemeente][\"longitude\"].values[0]\n",
    "                    continent = landen[landen[\"Land\"] == land][\"Continent (staatkundig)\"].values[0]\n",
    "                    discipline = row[1][\"Discipline\"]\n",
    "                    subdiscipline = row[1][\"Subdiscipline\"]\n",
    "                    if fusiegemeente not in data:\n",
    "                        data[fusiegemeente] = {\"latitude\": float(lat.replace(',', '.')),\n",
    "                                               \"longitude\": float(lon.replace(',', '.')),\n",
    "                                               \"provincie\": provincie,\n",
    "                                               \"vermeldingen\": {}\n",
    "                                               }\n",
    "                    if organisatie not in data[fusiegemeente][\"vermeldingen\"]:\n",
    "                        data[fusiegemeente][\"vermeldingen\"][organisatie] = {}\n",
    "                    if continent not in data[fusiegemeente][\"vermeldingen\"][organisatie]:\n",
    "                        data[fusiegemeente][\"vermeldingen\"][organisatie][continent] = {}\n",
    "                    if land not in data[fusiegemeente][\"vermeldingen\"][organisatie][continent]:\n",
    "                        data[fusiegemeente][\"vermeldingen\"][organisatie][continent][land] = {}\n",
    "                    if discipline not in data[fusiegemeente][\"vermeldingen\"][organisatie][continent][land]:\n",
    "                        data[fusiegemeente][\"vermeldingen\"][organisatie][continent][land][discipline] = {}\n",
    "                    if subdiscipline not in data[fusiegemeente][\"vermeldingen\"][organisatie][continent][land][discipline] :\n",
    "                        data[fusiegemeente][\"vermeldingen\"][organisatie][continent][land][discipline][subdiscipline] = 0\n",
    "                    data[fusiegemeente][\"vermeldingen\"][organisatie][continent][land][discipline][subdiscipline] += amount_of_mentions\n",
    "                except Exception as e:\n",
    "                    print(gemeente, \"geeft een probleem:\", e)"
   ]
  },
  {
   "cell_type": "markdown",
   "metadata": {},
   "source": [
    "We kunnen al eens gauw de structuur van deze gegevens nakijken voor bijvoorbeeld de gemeente Lanaken:"
   ]
  },
  {
   "cell_type": "code",
   "execution_count": 37,
   "metadata": {
    "collapsed": false
   },
   "outputs": [
    {
     "name": "stdout",
     "output_type": "stream",
     "text": [
      "{\n",
      "  \"longitude\": 5.6572276,\n",
      "  \"provincie\": \"Limburg\",\n",
      "  \"latitude\": 50.8919647,\n",
      "  \"vermeldingen\": {\n",
      "    \"NaN\": {\n",
      "      \"Europa\": {\n",
      "        \"Vlaanderen\": {\n",
      "          \"Concert\": {\n",
      "            \"NaN\": 1\n",
      "          }\n",
      "        },\n",
      "        \"Itali\\u00eb\": {\n",
      "          \"Concert\": {\n",
      "            \"Klassieke muziek\": 1\n",
      "          }\n",
      "        },\n",
      "        \"Frankrijk\": {\n",
      "          \"Concert\": {\n",
      "            \"NaN\": 2\n",
      "          }\n",
      "        },\n",
      "        \"Rusland\": {\n",
      "          \"Concert\": {\n",
      "            \"Klassieke muziek\": 1\n",
      "          }\n",
      "        },\n",
      "        \"Belgi\\u00eb\": {\n",
      "          \"Concert\": {\n",
      "            \"Klassieke muziek\": 2\n",
      "          }\n",
      "        },\n",
      "        \"Duitsland\": {\n",
      "          \"Concert\": {\n",
      "            \"Dance\": 1,\n",
      "            \"Amusementsmuziek\": 1\n",
      "          }\n",
      "        },\n",
      "        \"Verenigd Koninkrijk\": {\n",
      "          \"Concert\": {\n",
      "            \"Pop en rock\": 2,\n",
      "            \"Klassieke muziek\": 5\n",
      "          }\n",
      "        }\n",
      "      },\n",
      "      \"Azi\\u00eb\": {\n",
      "        \"China\": {\n",
      "          \"Concert\": {\n",
      "            \"Klassieke muziek\": 1\n",
      "          }\n",
      "        }\n",
      "      }\n",
      "    },\n",
      "    \"Privaat\": {\n",
      "      \"Europa\": {\n",
      "        \"Frankrijk\": {\n",
      "          \"Concert\": {\n",
      "            \"Klassieke muziek\": 1\n",
      "          }\n",
      "        }\n",
      "      }\n",
      "    },\n",
      "    \"Lokaal (cultuur)beleid\": {\n",
      "      \"Europa\": {\n",
      "        \"Vlaanderen\": {\n",
      "          \"podium\": {\n",
      "            \"Comedy\": 1,\n",
      "            \"Circus\": 1\n",
      "          }\n",
      "        },\n",
      "        \"Belgi\\u00eb\": {\n",
      "          \"podium\": {\n",
      "            \"Onbepaald\": 2\n",
      "          }\n",
      "        },\n",
      "        \"Duitsland\": {\n",
      "          \"podium\": {\n",
      "            \"Onbepaald\": 2\n",
      "          }\n",
      "        },\n",
      "        \"Nederland\": {\n",
      "          \"podium\": {\n",
      "            \"Onbepaald\": 1\n",
      "          }\n",
      "        }\n",
      "      }\n",
      "    }\n",
      "  }\n",
      "}\n"
     ]
    }
   ],
   "source": [
    "print(dumps(data[\"Lanaken\"], indent=2))"
   ]
  },
  {
   "cell_type": "markdown",
   "metadata": {},
   "source": [
    "We kunnen nu deze gegevens samenballen in een tabel."
   ]
  },
  {
   "cell_type": "code",
   "execution_count": 38,
   "metadata": {
    "collapsed": false
   },
   "outputs": [],
   "source": [
    "lines = []\n",
    "for fusiegemeente in data:\n",
    "    lat = data[fusiegemeente][\"latitude\"]\n",
    "    lon = data[fusiegemeente][\"longitude\"]\n",
    "    prov = data[fusiegemeente][\"provincie\"]\n",
    "    for organisatie in data[fusiegemeente][\"vermeldingen\"]:\n",
    "        for continent in data[fusiegemeente][\"vermeldingen\"][organisatie]:\n",
    "            for land in data[fusiegemeente][\"vermeldingen\"][organisatie][continent]:\n",
    "                for discipline in data[fusiegemeente][\"vermeldingen\"][organisatie][continent][land]:\n",
    "                    for subdiscipline in data[fusiegemeente][\"vermeldingen\"][organisatie][continent][land][discipline]:\n",
    "                        lines.append([fusiegemeente, lat, lon, prov, continent, land, discipline, subdiscipline, organisatie,\n",
    "                                      data[fusiegemeente][\"vermeldingen\"][organisatie][continent][land][discipline][subdiscipline]])\n",
    "res = DataFrame(lines, columns=['Gemeente', 'Latitude', 'Longitude', 'Provincie', 'Continent', 'Land', 'Discipline', 'Subdiscipline', 'Typering', 'Frequentie'])"
   ]
  },
  {
   "cell_type": "markdown",
   "metadata": {},
   "source": [
    "De tabel bevat dus de volgende informatie:"
   ]
  },
  {
   "cell_type": "code",
   "execution_count": 39,
   "metadata": {
    "collapsed": false
   },
   "outputs": [
    {
     "data": {
      "text/html": [
       "<div>\n",
       "<table border=\"1\" class=\"dataframe\">\n",
       "  <thead>\n",
       "    <tr style=\"text-align: right;\">\n",
       "      <th></th>\n",
       "      <th>Gemeente</th>\n",
       "      <th>Latitude</th>\n",
       "      <th>Longitude</th>\n",
       "      <th>Provincie</th>\n",
       "      <th>Continent</th>\n",
       "      <th>Land</th>\n",
       "      <th>Discipline</th>\n",
       "      <th>Subdiscipline</th>\n",
       "      <th>Typering</th>\n",
       "      <th>Frequentie</th>\n",
       "    </tr>\n",
       "  </thead>\n",
       "  <tbody>\n",
       "    <tr>\n",
       "      <th>0</th>\n",
       "      <td>Merksplas</td>\n",
       "      <td>51.35819</td>\n",
       "      <td>4.863547</td>\n",
       "      <td>Antwerp</td>\n",
       "      <td>Europa</td>\n",
       "      <td>Vlaanderen</td>\n",
       "      <td>Tentoonstelling</td>\n",
       "      <td>Meerdere kunstvormen</td>\n",
       "      <td>NaN</td>\n",
       "      <td>1</td>\n",
       "    </tr>\n",
       "    <tr>\n",
       "      <th>1</th>\n",
       "      <td>Merksplas</td>\n",
       "      <td>51.35819</td>\n",
       "      <td>4.863547</td>\n",
       "      <td>Antwerp</td>\n",
       "      <td>Europa</td>\n",
       "      <td>Vlaanderen</td>\n",
       "      <td>Concert</td>\n",
       "      <td>Klassieke muziek</td>\n",
       "      <td>NaN</td>\n",
       "      <td>2</td>\n",
       "    </tr>\n",
       "    <tr>\n",
       "      <th>2</th>\n",
       "      <td>Merksplas</td>\n",
       "      <td>51.35819</td>\n",
       "      <td>4.863547</td>\n",
       "      <td>Antwerp</td>\n",
       "      <td>Europa</td>\n",
       "      <td>België</td>\n",
       "      <td>Tentoonstelling</td>\n",
       "      <td>Meerdere kunstvormen</td>\n",
       "      <td>NaN</td>\n",
       "      <td>2</td>\n",
       "    </tr>\n",
       "    <tr>\n",
       "      <th>3</th>\n",
       "      <td>Herk-de-Stad</td>\n",
       "      <td>50.93923</td>\n",
       "      <td>5.167120</td>\n",
       "      <td>Limburg</td>\n",
       "      <td>Europa</td>\n",
       "      <td>Ierland</td>\n",
       "      <td>podium</td>\n",
       "      <td>Circus</td>\n",
       "      <td>Rest</td>\n",
       "      <td>4</td>\n",
       "    </tr>\n",
       "    <tr>\n",
       "      <th>4</th>\n",
       "      <td>Herk-de-Stad</td>\n",
       "      <td>50.93923</td>\n",
       "      <td>5.167120</td>\n",
       "      <td>Limburg</td>\n",
       "      <td>Europa</td>\n",
       "      <td>Luxemburg</td>\n",
       "      <td>podium</td>\n",
       "      <td>Circus</td>\n",
       "      <td>Rest</td>\n",
       "      <td>4</td>\n",
       "    </tr>\n",
       "  </tbody>\n",
       "</table>\n",
       "</div>"
      ],
      "text/plain": [
       "       Gemeente  Latitude  Longitude Provincie Continent        Land  \\\n",
       "0     Merksplas  51.35819   4.863547   Antwerp    Europa  Vlaanderen   \n",
       "1     Merksplas  51.35819   4.863547   Antwerp    Europa  Vlaanderen   \n",
       "2     Merksplas  51.35819   4.863547   Antwerp    Europa      België   \n",
       "3  Herk-de-Stad  50.93923   5.167120   Limburg    Europa     Ierland   \n",
       "4  Herk-de-Stad  50.93923   5.167120   Limburg    Europa   Luxemburg   \n",
       "\n",
       "        Discipline         Subdiscipline Typering  Frequentie  \n",
       "0  Tentoonstelling  Meerdere kunstvormen      NaN           1  \n",
       "1          Concert      Klassieke muziek      NaN           2  \n",
       "2  Tentoonstelling  Meerdere kunstvormen      NaN           2  \n",
       "3           podium                Circus     Rest           4  \n",
       "4           podium                Circus     Rest           4  "
      ]
     },
     "execution_count": 39,
     "metadata": {},
     "output_type": "execute_result"
    }
   ],
   "source": [
    "res.head()"
   ]
  },
  {
   "cell_type": "markdown",
   "metadata": {},
   "source": [
    "We schrijven tot slot deze tabel uit naar een CSV bestand voor verdere analyse."
   ]
  },
  {
   "cell_type": "code",
   "execution_count": 40,
   "metadata": {
    "collapsed": true
   },
   "outputs": [],
   "source": [
    "res.to_csv(\"landsvermeldingen.csv\")"
   ]
  },
  {
   "cell_type": "markdown",
   "metadata": {},
   "source": [
    "## Paren van landsvermeldingen\n",
    "\n",
    "Een andere interessante is om paartjes van landsvermeldingen te zien. Wordt Frankrijk vaak met Tunisie in 1 event aangehaald? Of Duitsland met Oostenrijk?"
   ]
  },
  {
   "cell_type": "code",
   "execution_count": null,
   "metadata": {
    "collapsed": false
   },
   "outputs": [],
   "source": [
    "events_met_landen = []\n",
    "\n",
    "count = 1\n",
    "for row in df.iterrows():\n",
    "    landenlijst = []\n",
    "    tekst = row[1][\"Tekst\"]\n",
    "    if count % 5000 == 0:\n",
    "        print(count, \"of\", len(df.index))\n",
    "    count += 1\n",
    "    for land in set(landen[\"Land\"].values):\n",
    "        regex = compile(r\"\\b(\" + r\"|\".join(landen[landen[\"Land\"] == land][\"Mention\"]) + r\")\\b\")\n",
    "        amount_of_mentions = len(regex.findall(str(tekst)))\n",
    "        if amount_of_mentions > 0:\n",
    "            landenlijst.append(land)\n",
    "    events_met_landen.append(landenlijst)"
   ]
  },
  {
   "cell_type": "code",
   "execution_count": null,
   "metadata": {
    "collapsed": false
   },
   "outputs": [],
   "source": [
    "print(events_met_landen[0:10])"
   ]
  },
  {
   "cell_type": "code",
   "execution_count": null,
   "metadata": {
    "collapsed": false
   },
   "outputs": [],
   "source": [
    "pairs = []\n",
    "landenset = set()\n",
    "for landenlijst in events_met_landen:\n",
    "    for land in landenlijst:\n",
    "        landenset.add(land)\n",
    "    for combi in combinations(landenlijst, 2):\n",
    "        pairs.append(combi)\n",
    "pairs_counter = Counter(pairs)\n",
    "pairs_counter_mat = {}\n",
    "for c in pairs_counter:\n",
    "    if c[0] not in pairs_counter_mat:\n",
    "        pairs_counter_mat[c[0]] = {}\n",
    "    if c[1] not in pairs_counter_mat:\n",
    "        pairs_counter_mat[c[1]] = {}\n",
    "    pairs_counter_mat[c[0]][c[1]] = pairs_counter[c]\n",
    "    pairs_counter_mat[c[1]][c[0]] = pairs_counter[c]\n",
    "smat = {}\n",
    "for land_a in landenset:\n",
    "    for land_b in landenset:\n",
    "        if land_a not in smat:\n",
    "            smat[land_a] = {}\n",
    "        if land_b not in smat:\n",
    "            smat[land_b] = {}\n",
    "        if land_a in pairs_counter_mat and land_b in pairs_counter_mat[land_a]:\n",
    "            smat[land_a][land_b] = pairs_counter_mat[land_a][land_b]\n",
    "            smat[land_b][land_a] = pairs_counter_mat[land_a][land_b]\n",
    "        else:\n",
    "            smat[land_a][land_b] = 0\n",
    "            smat[land_b][land_a] = 0\n",
    "DataFrame(smat)"
   ]
  }
 ],
 "metadata": {
  "kernelspec": {
   "display_name": "Python 3",
   "language": "python",
   "name": "python3"
  },
  "language_info": {
   "codemirror_mode": {
    "name": "ipython",
    "version": 3
   },
   "file_extension": ".py",
   "mimetype": "text/x-python",
   "name": "python",
   "nbconvert_exporter": "python",
   "pygments_lexer": "ipython3",
   "version": "3.5.2"
  }
 },
 "nbformat": 4,
 "nbformat_minor": 0
}
