{
 "cells": [
  {
   "cell_type": "markdown",
   "metadata": {},
   "source": [
    "# Corpusanalyse UiTdatabank\n",
    "\n",
    "We hebben de volgende bibliotheken nodig:"
   ]
  },
  {
   "cell_type": "code",
   "execution_count": 1,
   "metadata": {
    "collapsed": false
   },
   "outputs": [],
   "source": [
    "from pandas import read_excel, read_csv, DataFrame, Series, concat\n",
    "from datetime import datetime\n",
    "from codecs import open\n",
    "from re import compile, IGNORECASE\n",
    "from json import dumps\n",
    "from datetime import datetime"
   ]
  },
  {
   "cell_type": "markdown",
   "metadata": {},
   "source": [
    "Dan lezen we lezen de gegevens in"
   ]
  },
  {
   "cell_type": "code",
   "execution_count": 2,
   "metadata": {
    "collapsed": false
   },
   "outputs": [],
   "source": [
    "df_podium = read_excel(\"ruwe data/podium.xlsx\", sheetname='theaterdans1014')\n",
    "df_bk = read_excel(\"ruwe data/beeldendekunsten.xlsx\", sheetname='UitRapport')\n",
    "df_muziek = read_excel(\"ruwe data/muziek.xlsx\", sheetname='Int nat reg')"
   ]
  },
  {
   "cell_type": "markdown",
   "metadata": {},
   "source": [
    "Voor de muziekgegevens moeten we nog controleren dat concerten eventuele herhalingen hebben, door in de speelmomenten kolom na te gaan wat de speelmomenten zijn. Dit is niet nodig bij de beeldende kunsten, aangezien daar de unit of analysis de tentoonstelling is, onafhankelijk van hoelang die tentoonstelling loopt. Bij podiumkunsten zijn de speelmomenten manueel gecheckt, ocharme simon."
   ]
  },
  {
   "cell_type": "code",
   "execution_count": 3,
   "metadata": {
    "collapsed": false
   },
   "outputs": [],
   "source": [
    "datumregex = compile(r\"\\d\\d/\\d\\d/\\d\\d\")\n",
    "df_muziek_expanded = df_muziek.copy()\n",
    "for row in df_muziek_expanded.iterrows():\n",
    "    speelmomenten = row[1][\"Speelmomenten\"]\n",
    "    if str(speelmomenten) != \"nan\":    \n",
    "        for speelmoment in datumregex.findall(speelmomenten):\n",
    "            speelmoment_dt = datetime(int(\"20\" + speelmoment.split(\"/\")[2]), \n",
    "                                      int(speelmoment.split(\"/\")[1]), \n",
    "                                      int(speelmoment.split(\"/\")[0]))\n",
    "            if speelmoment_dt != row[1][\"Datum\"]:\n",
    "                df_muziek_expanded = df_muziek_expanded.append(\n",
    "                    Series(\n",
    "                        {\"Discipline\": row[1][\"Discipline\"],\n",
    "                         \"Subdiscipline\": row[1][\"Subdiscipline\"],\n",
    "                         \"Tekst\": row[1][\"Tekst\"],\n",
    "                         \"Datum\": speelmoment_dt,\n",
    "                         \"Gemeente\": row[1][\"Gemeente\"]\n",
    "                        }, name=speelmoment_dt.isoformat() + \" \" + str(row[0])\n",
    "                    )\n",
    "                )"
   ]
  },
  {
   "cell_type": "markdown",
   "metadata": {},
   "source": [
    "We perken de gegevens in tot 2014, en gooien ook duplicaten op basis van datum, gemeente en tekst eruit. Bovendien hebben we de kolom met speelmomenten ook niet meer nodig."
   ]
  },
  {
   "cell_type": "code",
   "execution_count": 4,
   "metadata": {
    "collapsed": false
   },
   "outputs": [],
   "source": [
    "df_muziek_expanded_geenspeelmomenten = df_muziek_expanded.drop(\"Speelmomenten\", axis=1)\n",
    "df = concat([df_podium, df_bk, df_muziek_expanded_geenspeelmomenten])\n",
    "df = df[df[\"Datum\"].between(datetime(2014, 1, 1), datetime(2014, 12, 31))]\n",
    "df.drop_duplicates(subset=[\"Datum\", \"Discipline\", \"Subdiscipline\", \"Gemeente\", \"Tekst\"], inplace=True)"
   ]
  },
  {
   "cell_type": "markdown",
   "metadata": {},
   "source": [
    "We kunnen kort inspecteren hoe deze data eruitzien."
   ]
  },
  {
   "cell_type": "code",
   "execution_count": 5,
   "metadata": {
    "collapsed": false
   },
   "outputs": [
    {
     "data": {
      "text/html": [
       "<div>\n",
       "<table border=\"1\" class=\"dataframe\">\n",
       "  <thead>\n",
       "    <tr style=\"text-align: right;\">\n",
       "      <th></th>\n",
       "      <th>Datum</th>\n",
       "      <th>Discipline</th>\n",
       "      <th>Gemeente</th>\n",
       "      <th>Subdiscipline</th>\n",
       "      <th>Tekst</th>\n",
       "      <th>Unnamed: 4</th>\n",
       "      <th>Unnamed: 6</th>\n",
       "    </tr>\n",
       "  </thead>\n",
       "  <tbody>\n",
       "    <tr>\n",
       "      <th>747</th>\n",
       "      <td>2014-04-02</td>\n",
       "      <td>podium</td>\n",
       "      <td>Brussel</td>\n",
       "      <td>Dansvoorstelling</td>\n",
       "      <td>Shen Yun brengt 5.000 jaar Chinese beschaving ...</td>\n",
       "      <td>NaN</td>\n",
       "      <td>NaN</td>\n",
       "    </tr>\n",
       "    <tr>\n",
       "      <th>748</th>\n",
       "      <td>2014-04-03</td>\n",
       "      <td>podium</td>\n",
       "      <td>Brussel</td>\n",
       "      <td>Dansvoorstelling</td>\n",
       "      <td>Shen Yun brengt 5.000 jaar Chinese beschaving ...</td>\n",
       "      <td>NaN</td>\n",
       "      <td>NaN</td>\n",
       "    </tr>\n",
       "    <tr>\n",
       "      <th>749</th>\n",
       "      <td>2014-04-04</td>\n",
       "      <td>podium</td>\n",
       "      <td>Brussel</td>\n",
       "      <td>Dansvoorstelling</td>\n",
       "      <td>Shen Yun brengt 5.000 jaar Chinese beschaving ...</td>\n",
       "      <td>NaN</td>\n",
       "      <td>NaN</td>\n",
       "    </tr>\n",
       "    <tr>\n",
       "      <th>750</th>\n",
       "      <td>2014-04-05</td>\n",
       "      <td>podium</td>\n",
       "      <td>Brussel</td>\n",
       "      <td>Dansvoorstelling</td>\n",
       "      <td>Shen Yun brengt 5.000 jaar Chinese beschaving ...</td>\n",
       "      <td>NaN</td>\n",
       "      <td>NaN</td>\n",
       "    </tr>\n",
       "    <tr>\n",
       "      <th>752</th>\n",
       "      <td>2014-04-06</td>\n",
       "      <td>podium</td>\n",
       "      <td>Brussel</td>\n",
       "      <td>Dansvoorstelling</td>\n",
       "      <td>Shen Yun brengt 5.000 jaar Chinese beschaving ...</td>\n",
       "      <td>NaN</td>\n",
       "      <td>NaN</td>\n",
       "    </tr>\n",
       "  </tbody>\n",
       "</table>\n",
       "</div>"
      ],
      "text/plain": [
       "         Datum Discipline Gemeente     Subdiscipline  \\\n",
       "747 2014-04-02     podium  Brussel  Dansvoorstelling   \n",
       "748 2014-04-03     podium  Brussel  Dansvoorstelling   \n",
       "749 2014-04-04     podium  Brussel  Dansvoorstelling   \n",
       "750 2014-04-05     podium  Brussel  Dansvoorstelling   \n",
       "752 2014-04-06     podium  Brussel  Dansvoorstelling   \n",
       "\n",
       "                                                 Tekst  Unnamed: 4 Unnamed: 6  \n",
       "747  Shen Yun brengt 5.000 jaar Chinese beschaving ...         NaN        NaN  \n",
       "748  Shen Yun brengt 5.000 jaar Chinese beschaving ...         NaN        NaN  \n",
       "749  Shen Yun brengt 5.000 jaar Chinese beschaving ...         NaN        NaN  \n",
       "750  Shen Yun brengt 5.000 jaar Chinese beschaving ...         NaN        NaN  \n",
       "752  Shen Yun brengt 5.000 jaar Chinese beschaving ...         NaN        NaN  "
      ]
     },
     "execution_count": 5,
     "metadata": {},
     "output_type": "execute_result"
    }
   ],
   "source": [
    "df.head()"
   ]
  },
  {
   "cell_type": "markdown",
   "metadata": {},
   "source": [
    "We zien dat elke lijn een event beschrijving bevat, de plaats waar een event plaatsvindt, en ook de datum. Merk op dat events die op meerdere dagen plaatsvinden een aparte lijn krijgen. We zullen hiermee rekening houden in de interpretatie van de resultaten."
   ]
  },
  {
   "cell_type": "markdown",
   "metadata": {},
   "source": [
    "Frequentielijst van woorden met een hoofdletter die na in of uit voorkomen, of na een lidwoord."
   ]
  },
  {
   "cell_type": "markdown",
   "metadata": {},
   "source": [
    "Voor onze analyse hebben we ook nood aan een lijst van namen van landen, coordinaten voor de plaatsnamen, en ook een manueel gemaakte mapping om de plaatsnamen in de UiTdatabank gegevens te normaliseren."
   ]
  },
  {
   "cell_type": "code",
   "execution_count": 6,
   "metadata": {
    "collapsed": false
   },
   "outputs": [],
   "source": [
    "typering = read_csv(\"extra gegevens/mapping_udb-gemeente_fusie-gemeente.csv\", delimiter=';')\n",
    "coord = read_csv(\"extra gegevens/coordinaten.csv\", delimiter=';')\n",
    "landen = read_excel(\"extra gegevens/landen.xlsx\", sheetname=\"uitgebreide lijst 2014\")"
   ]
  },
  {
   "cell_type": "markdown",
   "metadata": {},
   "source": [
    "Laten we even in detail deze tabellen bekijken. De landen:"
   ]
  },
  {
   "cell_type": "code",
   "execution_count": 7,
   "metadata": {
    "collapsed": false
   },
   "outputs": [
    {
     "data": {
      "text/html": [
       "<div>\n",
       "<table border=\"1\" class=\"dataframe\">\n",
       "  <thead>\n",
       "    <tr style=\"text-align: right;\">\n",
       "      <th></th>\n",
       "      <th>Continent (staatkundig)</th>\n",
       "      <th>Land</th>\n",
       "      <th>Soort mention</th>\n",
       "      <th>Mention</th>\n",
       "    </tr>\n",
       "  </thead>\n",
       "  <tbody>\n",
       "    <tr>\n",
       "      <th>0</th>\n",
       "      <td>Azië</td>\n",
       "      <td>Afghanistan</td>\n",
       "      <td>korte landnaam</td>\n",
       "      <td>Afghanistan</td>\n",
       "    </tr>\n",
       "    <tr>\n",
       "      <th>1</th>\n",
       "      <td>Azië</td>\n",
       "      <td>Afghanistan</td>\n",
       "      <td>inwoner</td>\n",
       "      <td>Afghaan</td>\n",
       "    </tr>\n",
       "    <tr>\n",
       "      <th>2</th>\n",
       "      <td>Azië</td>\n",
       "      <td>Afghanistan</td>\n",
       "      <td>inwoner</td>\n",
       "      <td>Afghanen</td>\n",
       "    </tr>\n",
       "    <tr>\n",
       "      <th>3</th>\n",
       "      <td>Azië</td>\n",
       "      <td>Afghanistan</td>\n",
       "      <td>adjectief</td>\n",
       "      <td>Afghaans</td>\n",
       "    </tr>\n",
       "    <tr>\n",
       "      <th>4</th>\n",
       "      <td>Azië</td>\n",
       "      <td>Afghanistan</td>\n",
       "      <td>adjectief</td>\n",
       "      <td>Afghaanse</td>\n",
       "    </tr>\n",
       "  </tbody>\n",
       "</table>\n",
       "</div>"
      ],
      "text/plain": [
       "  Continent (staatkundig)         Land   Soort mention      Mention\n",
       "0                    Azië  Afghanistan  korte landnaam  Afghanistan\n",
       "1                    Azië  Afghanistan         inwoner      Afghaan\n",
       "2                    Azië  Afghanistan         inwoner     Afghanen\n",
       "3                    Azië  Afghanistan       adjectief     Afghaans\n",
       "4                    Azië  Afghanistan       adjectief    Afghaanse"
      ]
     },
     "execution_count": 7,
     "metadata": {},
     "output_type": "execute_result"
    }
   ],
   "source": [
    "landen.head()"
   ]
  },
  {
   "cell_type": "markdown",
   "metadata": {},
   "source": [
    "Voor elk land weten we in welk (staatkundig) continent het ligt, en we hebben in de kolom 'Mention' verschillende manieren waarop dat land kan voorkomen in de tekst.\n",
    "\n",
    "Bij typering zien we het volgende:"
   ]
  },
  {
   "cell_type": "code",
   "execution_count": 8,
   "metadata": {
    "collapsed": false
   },
   "outputs": [
    {
     "data": {
      "text/html": [
       "<div>\n",
       "<table border=\"1\" class=\"dataframe\">\n",
       "  <thead>\n",
       "    <tr style=\"text-align: right;\">\n",
       "      <th></th>\n",
       "      <th>Gemeente Origineel</th>\n",
       "      <th>Postcode</th>\n",
       "      <th>Fusiegemeente</th>\n",
       "      <th>Stedelijkheid fusiegemeenten</th>\n",
       "      <th>Gemeente cluster</th>\n",
       "      <th>Province (English)</th>\n",
       "      <th>Country (English)</th>\n",
       "      <th>Provincie</th>\n",
       "      <th>Stedelijkheid</th>\n",
       "    </tr>\n",
       "  </thead>\n",
       "  <tbody>\n",
       "    <tr>\n",
       "      <th>931</th>\n",
       "      <td>Kwaremont (Kluisbergen)</td>\n",
       "      <td>NaN</td>\n",
       "      <td>Kluisbergen</td>\n",
       "      <td>Niet-stedelijk</td>\n",
       "      <td>Kluisbergen</td>\n",
       "      <td>East Flanders</td>\n",
       "      <td>Belgium</td>\n",
       "      <td>Oost-Vlaanderen</td>\n",
       "      <td>Niet-stedelijk</td>\n",
       "    </tr>\n",
       "    <tr>\n",
       "      <th>932</th>\n",
       "      <td>Kleine-Brogel (Peer)</td>\n",
       "      <td>NaN</td>\n",
       "      <td>Peer</td>\n",
       "      <td>Niet-stedelijk</td>\n",
       "      <td>Peer</td>\n",
       "      <td>Limburg</td>\n",
       "      <td>Belgium</td>\n",
       "      <td>Limburg</td>\n",
       "      <td>Niet-stedelijk</td>\n",
       "    </tr>\n",
       "    <tr>\n",
       "      <th>933</th>\n",
       "      <td>Meilegem (Zwalm)</td>\n",
       "      <td>NaN</td>\n",
       "      <td>Zwalm</td>\n",
       "      <td>Niet-stedelijk</td>\n",
       "      <td>Zwalm</td>\n",
       "      <td>East Flanders</td>\n",
       "      <td>Belgium</td>\n",
       "      <td>Oost-Vlaanderen</td>\n",
       "      <td>Niet-stedelijk</td>\n",
       "    </tr>\n",
       "    <tr>\n",
       "      <th>934</th>\n",
       "      <td>Beek (Bree)</td>\n",
       "      <td>NaN</td>\n",
       "      <td>Bree</td>\n",
       "      <td>Niet-stedelijk</td>\n",
       "      <td>Bree</td>\n",
       "      <td>Limburg</td>\n",
       "      <td>Belgium</td>\n",
       "      <td>Limburg</td>\n",
       "      <td>Niet-stedelijk</td>\n",
       "    </tr>\n",
       "    <tr>\n",
       "      <th>935</th>\n",
       "      <td>Oetingen (Gooik)</td>\n",
       "      <td>NaN</td>\n",
       "      <td>Gooik</td>\n",
       "      <td>Niet-stedelijk</td>\n",
       "      <td>Gooik</td>\n",
       "      <td>Flemish Brabant</td>\n",
       "      <td>Belgium</td>\n",
       "      <td>Vlaams-Brabant</td>\n",
       "      <td>Niet-stedelijk</td>\n",
       "    </tr>\n",
       "  </tbody>\n",
       "</table>\n",
       "</div>"
      ],
      "text/plain": [
       "          Gemeente Origineel  Postcode Fusiegemeente  \\\n",
       "931  Kwaremont (Kluisbergen)       NaN   Kluisbergen   \n",
       "932     Kleine-Brogel (Peer)       NaN          Peer   \n",
       "933         Meilegem (Zwalm)       NaN         Zwalm   \n",
       "934              Beek (Bree)       NaN          Bree   \n",
       "935         Oetingen (Gooik)       NaN         Gooik   \n",
       "\n",
       "    Stedelijkheid fusiegemeenten Gemeente cluster Province (English)  \\\n",
       "931               Niet-stedelijk      Kluisbergen      East Flanders   \n",
       "932               Niet-stedelijk             Peer            Limburg   \n",
       "933               Niet-stedelijk            Zwalm      East Flanders   \n",
       "934               Niet-stedelijk             Bree            Limburg   \n",
       "935               Niet-stedelijk            Gooik    Flemish Brabant   \n",
       "\n",
       "    Country (English)        Provincie   Stedelijkheid  \n",
       "931           Belgium  Oost-Vlaanderen  Niet-stedelijk  \n",
       "932           Belgium          Limburg  Niet-stedelijk  \n",
       "933           Belgium  Oost-Vlaanderen  Niet-stedelijk  \n",
       "934           Belgium          Limburg  Niet-stedelijk  \n",
       "935           Belgium   Vlaams-Brabant  Niet-stedelijk  "
      ]
     },
     "execution_count": 8,
     "metadata": {},
     "output_type": "execute_result"
    }
   ],
   "source": [
    "typering.tail()"
   ]
  },
  {
   "cell_type": "markdown",
   "metadata": {},
   "source": [
    "De kolom Gemeente Origineel is de naam van de gemeente in de uitdatabank gegevens, en we kunnen de naam in de kolom Fusiegemeente en Province (English) gebruiken om een genormaliseerd zicht te krijgen.\n",
    "\n",
    "Tot slot hebben we nog de coordinaten:"
   ]
  },
  {
   "cell_type": "code",
   "execution_count": 9,
   "metadata": {
    "collapsed": false
   },
   "outputs": [
    {
     "data": {
      "text/html": [
       "<div>\n",
       "<table border=\"1\" class=\"dataframe\">\n",
       "  <thead>\n",
       "    <tr style=\"text-align: right;\">\n",
       "      <th></th>\n",
       "      <th>Fusiegemeente</th>\n",
       "      <th>adress</th>\n",
       "      <th>latitude</th>\n",
       "      <th>longitude</th>\n",
       "    </tr>\n",
       "  </thead>\n",
       "  <tbody>\n",
       "    <tr>\n",
       "      <th>0</th>\n",
       "      <td>Aalst</td>\n",
       "      <td>Aalst, Belgium</td>\n",
       "      <td>50,9378101</td>\n",
       "      <td>4,0409517</td>\n",
       "    </tr>\n",
       "    <tr>\n",
       "      <th>1</th>\n",
       "      <td>Aalter</td>\n",
       "      <td>Aalter, Belgium</td>\n",
       "      <td>51,087349</td>\n",
       "      <td>3,448371</td>\n",
       "    </tr>\n",
       "    <tr>\n",
       "      <th>2</th>\n",
       "      <td>Aarschot</td>\n",
       "      <td>Aarschot, Belgium</td>\n",
       "      <td>50,9859959</td>\n",
       "      <td>4,8365218</td>\n",
       "    </tr>\n",
       "    <tr>\n",
       "      <th>3</th>\n",
       "      <td>Aartselaar</td>\n",
       "      <td>Aartselaar, Belgium</td>\n",
       "      <td>51,1340539</td>\n",
       "      <td>4,3844742</td>\n",
       "    </tr>\n",
       "    <tr>\n",
       "      <th>4</th>\n",
       "      <td>Affligem</td>\n",
       "      <td>Affligem, Belgium</td>\n",
       "      <td>50,9084</td>\n",
       "      <td>4,11281</td>\n",
       "    </tr>\n",
       "  </tbody>\n",
       "</table>\n",
       "</div>"
      ],
      "text/plain": [
       "  Fusiegemeente               adress    latitude  longitude\n",
       "0         Aalst       Aalst, Belgium  50,9378101  4,0409517\n",
       "1        Aalter      Aalter, Belgium   51,087349   3,448371\n",
       "2      Aarschot    Aarschot, Belgium  50,9859959  4,8365218\n",
       "3    Aartselaar  Aartselaar, Belgium  51,1340539  4,3844742\n",
       "4      Affligem    Affligem, Belgium     50,9084    4,11281"
      ]
     },
     "execution_count": 9,
     "metadata": {},
     "output_type": "execute_result"
    }
   ],
   "source": [
    "coord.head()"
   ]
  },
  {
   "cell_type": "markdown",
   "metadata": {},
   "source": [
    "Hiermee kunnen we voor iedere Fusiegemeente (zie vorige tabel) de latitude en longitude ophalen."
   ]
  },
  {
   "cell_type": "markdown",
   "metadata": {},
   "source": [
    "Nu gaan we voor ieder event in de UiTdatabankgegevens na welk land er vermeld wordt in de beschrijving van dat event. We houden ook al onmiddellijk bij wat de genormaliseerde naam is van de gemeente en de coordinaten van het centrum. Bovendien tellen we binnen het land ook nog de verschillende disciplines."
   ]
  },
  {
   "cell_type": "code",
   "execution_count": 10,
   "metadata": {
    "collapsed": false
   },
   "outputs": [
    {
     "name": "stdout",
     "output_type": "stream",
     "text": [
      "1000 of 33028\n",
      "2000 of 33028\n",
      "3000 of 33028\n",
      "4000 of 33028\n",
      "5000 of 33028\n",
      "6000 of 33028\n",
      "7000 of 33028\n",
      "8000 of 33028\n",
      "9000 of 33028\n",
      "10000 of 33028\n",
      "11000 of 33028\n",
      "12000 of 33028\n",
      "13000 of 33028\n",
      "14000 of 33028\n",
      "15000 of 33028\n",
      "16000 of 33028\n",
      "17000 of 33028\n",
      "18000 of 33028\n",
      "19000 of 33028\n",
      "20000 of 33028\n",
      "21000 of 33028\n",
      "22000 of 33028\n",
      "23000 of 33028\n",
      "24000 of 33028\n",
      "25000 of 33028\n",
      "26000 of 33028\n",
      "27000 of 33028\n",
      "28000 of 33028\n",
      "29000 of 33028\n",
      "30000 of 33028\n",
      "31000 of 33028\n",
      "Vaalbeek (Oud-Heverlee)\n",
      "32000 of 33028\n",
      "33000 of 33028\n"
     ]
    }
   ],
   "source": [
    "data = {}\n",
    "niet_vlaams = [\"Jodoigne\", \"Tournai\", \"Escanaffles\"]\n",
    "count = 1\n",
    "for row in df.iterrows():\n",
    "    if count % 1000 == 0:\n",
    "        print(count, \"of\", len(df.index))\n",
    "    count += 1\n",
    "    tekst = row[1][\"Tekst\"]\n",
    "    gemeente = row[1][\"Gemeente\"]\n",
    "    if str(gemeente) != \"nan\" and str(gemeente) not in niet_vlaams:\n",
    "        for land in set(landen[\"Land\"].values):\n",
    "            for mention in landen[landen[\"Land\"] == land][\"Mention\"]:\n",
    "                regex = compile(r\"\\b\" + mention + r\"\\b\", IGNORECASE)\n",
    "                amount_of_mentions = len(regex.findall(tekst))\n",
    "                if amount_of_mentions > 0:\n",
    "                    try:\n",
    "                        typeringlijn = typering[typering[\"Gemeente Origineel\"] == gemeente]\n",
    "                        fusiegemeente = typeringlijn[\"Fusiegemeente\"].values[0]\n",
    "                        provincie = typeringlijn[\"Province (English)\"].values[0]\n",
    "                        lat = coord[coord[\"Fusiegemeente\"] == fusiegemeente][\"latitude\"].values[0]\n",
    "                        lon = coord[coord[\"Fusiegemeente\"] == fusiegemeente][\"longitude\"].values[0]\n",
    "                        continent = landen[landen[\"Mention\"] == mention][\"Continent (staatkundig)\"].values[0]\n",
    "                        mention_soort = landen[landen[\"Mention\"] == mention][\"Soort mention\"].values[0]\n",
    "                        discipline = row[1][\"Discipline\"]\n",
    "                        subdiscipline = row[1][\"Subdiscipline\"]\n",
    "                        if fusiegemeente not in data:\n",
    "                            data[fusiegemeente] = {\"latitude\": float(lat.replace(',', '.')),\n",
    "                                                   \"longitude\": float(lon.replace(',', '.')),\n",
    "                                                   \"provincie\": provincie,\n",
    "                                                   \"vermeldingen\": {}\n",
    "                                                   }\n",
    "                        if continent not in data[fusiegemeente][\"vermeldingen\"]:\n",
    "                            data[fusiegemeente][\"vermeldingen\"][continent] = {}\n",
    "                        if land not in data[fusiegemeente][\"vermeldingen\"][continent]:\n",
    "                            data[fusiegemeente][\"vermeldingen\"][continent][land] = {}\n",
    "                        if discipline not in data[fusiegemeente][\"vermeldingen\"][continent][land]:\n",
    "                            data[fusiegemeente][\"vermeldingen\"][continent][land][discipline] = {}\n",
    "                        if subdiscipline not in data[fusiegemeente][\"vermeldingen\"][continent][land][discipline] :\n",
    "                            data[fusiegemeente][\"vermeldingen\"][continent][land][discipline][subdiscipline] = 0\n",
    "                        data[fusiegemeente][\"vermeldingen\"][continent][land][discipline][subdiscipline] += amount_of_mentions\n",
    "                    except:\n",
    "                        print(gemeente)"
   ]
  },
  {
   "cell_type": "markdown",
   "metadata": {},
   "source": [
    "We kunnen al eens gauw de structuur van deze gegevens nakijken voor bijvoorbeeld de gemeente Brussel:"
   ]
  },
  {
   "cell_type": "code",
   "execution_count": 11,
   "metadata": {
    "collapsed": false
   },
   "outputs": [
    {
     "name": "stdout",
     "output_type": "stream",
     "text": [
      "{\n",
      "  \"vermeldingen\": {\n",
      "    \"Azi\\u00eb\": {\n",
      "      \"Japan\": {\n",
      "        \"podium\": {\n",
      "          \"Theatervoorstelling\": 1\n",
      "        }\n",
      "      },\n",
      "      \"India\": {\n",
      "        \"Tentoonstelling\": {\n",
      "          \"NaN\": 4\n",
      "        }\n",
      "      }\n",
      "    },\n",
      "    \"Europa\": {\n",
      "      \"Frankrijk\": {\n",
      "        \"podium\": {\n",
      "          \"Theatervoorstelling\": 2\n",
      "        }\n",
      "      },\n",
      "      \"Letland\": {\n",
      "        \"podium\": {\n",
      "          \"Theatervoorstelling\": 2\n",
      "        }\n",
      "      },\n",
      "      \"Nederland\": {\n",
      "        \"podium\": {\n",
      "          \"Theatervoorstelling\": 1\n",
      "        }\n",
      "      },\n",
      "      \"Duitsland\": {\n",
      "        \"podium\": {\n",
      "          \"Theatervoorstelling\": 2\n",
      "        }\n",
      "      },\n",
      "      \"Vlaanderen\": {\n",
      "        \"podium\": {\n",
      "          \"Theatervoorstelling\": 1\n",
      "        }\n",
      "      }\n",
      "    }\n",
      "  },\n",
      "  \"latitude\": 51.1272719,\n",
      "  \"longitude\": 4.4967604,\n",
      "  \"provincie\": \"Antwerp\"\n",
      "}\n"
     ]
    }
   ],
   "source": [
    "print(dumps(data[\"Lint\"], indent=2))"
   ]
  },
  {
   "cell_type": "markdown",
   "metadata": {},
   "source": [
    "We kunnen nu deze gegevens samenballen in een tabel."
   ]
  },
  {
   "cell_type": "code",
   "execution_count": 12,
   "metadata": {
    "collapsed": false
   },
   "outputs": [],
   "source": [
    "lines = []\n",
    "for fusiegemeente in data:\n",
    "    lat = data[fusiegemeente][\"latitude\"]\n",
    "    lon = data[fusiegemeente][\"longitude\"]\n",
    "    prov = data[fusiegemeente][\"provincie\"]\n",
    "    for continent in data[fusiegemeente][\"vermeldingen\"]:\n",
    "        for land in data[fusiegemeente][\"vermeldingen\"][continent]:\n",
    "            for discipline in data[fusiegemeente][\"vermeldingen\"][continent][land]:\n",
    "                for subdiscipline in data[fusiegemeente][\"vermeldingen\"][continent][land][discipline]:\n",
    "                    lines.append([fusiegemeente, lat, lon, prov, continent, land, discipline, subdiscipline, \n",
    "                                  data[fusiegemeente][\"vermeldingen\"][continent][land][discipline][subdiscipline]])\n",
    "res = DataFrame(lines, columns=['Gemeente', 'Latitude', 'Longitude', 'Provincie', 'Continent', 'Land', 'Discipline', 'Subdiscipline', 'Frequentie'])"
   ]
  },
  {
   "cell_type": "markdown",
   "metadata": {},
   "source": [
    "De tabel bevat dus de volgende informatie:"
   ]
  },
  {
   "cell_type": "code",
   "execution_count": 20,
   "metadata": {
    "collapsed": false
   },
   "outputs": [
    {
     "data": {
      "text/html": [
       "<div>\n",
       "<table border=\"1\" class=\"dataframe\">\n",
       "  <thead>\n",
       "    <tr style=\"text-align: right;\">\n",
       "      <th></th>\n",
       "      <th>Gemeente</th>\n",
       "      <th>Latitude</th>\n",
       "      <th>Longitude</th>\n",
       "      <th>Provincie</th>\n",
       "      <th>Continent</th>\n",
       "      <th>Land</th>\n",
       "      <th>Discipline</th>\n",
       "      <th>Subdiscipline</th>\n",
       "      <th>Frequentie</th>\n",
       "    </tr>\n",
       "  </thead>\n",
       "  <tbody>\n",
       "    <tr>\n",
       "      <th>0</th>\n",
       "      <td>Langemark-Poelkapelle</td>\n",
       "      <td>50.913567</td>\n",
       "      <td>2.920013</td>\n",
       "      <td>West Flanders</td>\n",
       "      <td>Europa</td>\n",
       "      <td>Frankrijk</td>\n",
       "      <td>Tentoonstelling</td>\n",
       "      <td>NaN</td>\n",
       "      <td>3</td>\n",
       "    </tr>\n",
       "    <tr>\n",
       "      <th>1</th>\n",
       "      <td>Langemark-Poelkapelle</td>\n",
       "      <td>50.913567</td>\n",
       "      <td>2.920013</td>\n",
       "      <td>West Flanders</td>\n",
       "      <td>Europa</td>\n",
       "      <td>Frankrijk</td>\n",
       "      <td>podium</td>\n",
       "      <td>Theatervoorstelling</td>\n",
       "      <td>2</td>\n",
       "    </tr>\n",
       "    <tr>\n",
       "      <th>2</th>\n",
       "      <td>Langemark-Poelkapelle</td>\n",
       "      <td>50.913567</td>\n",
       "      <td>2.920013</td>\n",
       "      <td>West Flanders</td>\n",
       "      <td>Europa</td>\n",
       "      <td>Italië</td>\n",
       "      <td>podium</td>\n",
       "      <td>Theatervoorstelling</td>\n",
       "      <td>13</td>\n",
       "    </tr>\n",
       "    <tr>\n",
       "      <th>3</th>\n",
       "      <td>Langemark-Poelkapelle</td>\n",
       "      <td>50.913567</td>\n",
       "      <td>2.920013</td>\n",
       "      <td>West Flanders</td>\n",
       "      <td>Europa</td>\n",
       "      <td>Letland</td>\n",
       "      <td>podium</td>\n",
       "      <td>Theatervoorstelling</td>\n",
       "      <td>5</td>\n",
       "    </tr>\n",
       "    <tr>\n",
       "      <th>4</th>\n",
       "      <td>Langemark-Poelkapelle</td>\n",
       "      <td>50.913567</td>\n",
       "      <td>2.920013</td>\n",
       "      <td>West Flanders</td>\n",
       "      <td>Europa</td>\n",
       "      <td>Vlaanderen</td>\n",
       "      <td>Tentoonstelling</td>\n",
       "      <td>NaN</td>\n",
       "      <td>4</td>\n",
       "    </tr>\n",
       "  </tbody>\n",
       "</table>\n",
       "</div>"
      ],
      "text/plain": [
       "                Gemeente   Latitude  Longitude      Provincie Continent  \\\n",
       "0  Langemark-Poelkapelle  50.913567   2.920013  West Flanders    Europa   \n",
       "1  Langemark-Poelkapelle  50.913567   2.920013  West Flanders    Europa   \n",
       "2  Langemark-Poelkapelle  50.913567   2.920013  West Flanders    Europa   \n",
       "3  Langemark-Poelkapelle  50.913567   2.920013  West Flanders    Europa   \n",
       "4  Langemark-Poelkapelle  50.913567   2.920013  West Flanders    Europa   \n",
       "\n",
       "         Land       Discipline        Subdiscipline  Frequentie  \n",
       "0   Frankrijk  Tentoonstelling                  NaN           3  \n",
       "1   Frankrijk           podium  Theatervoorstelling           2  \n",
       "2      Italië           podium  Theatervoorstelling          13  \n",
       "3     Letland           podium  Theatervoorstelling           5  \n",
       "4  Vlaanderen  Tentoonstelling                  NaN           4  "
      ]
     },
     "execution_count": 20,
     "metadata": {},
     "output_type": "execute_result"
    }
   ],
   "source": [
    "res.head()"
   ]
  },
  {
   "cell_type": "markdown",
   "metadata": {},
   "source": [
    "Als voorbeeld kan de eerste lijn gelezen worden als \"in de gemeente Denderleeuw (coordinaten 50.88, 4.07) wordt India 1 keer vermeld\".\n",
    "\n",
    "We schrijven tot slot deze tabel uit naar een CSV bestand voor verdere analyse."
   ]
  },
  {
   "cell_type": "code",
   "execution_count": 14,
   "metadata": {
    "collapsed": true
   },
   "outputs": [],
   "source": [
    "res.to_csv(\"landsvermeldingen.csv\")"
   ]
  }
 ],
 "metadata": {
  "kernelspec": {
   "display_name": "Python 3",
   "language": "python",
   "name": "python3"
  },
  "language_info": {
   "codemirror_mode": {
    "name": "ipython",
    "version": 3
   },
   "file_extension": ".py",
   "mimetype": "text/x-python",
   "name": "python",
   "nbconvert_exporter": "python",
   "pygments_lexer": "ipython3",
   "version": "3.5.2"
  }
 },
 "nbformat": 4,
 "nbformat_minor": 0
}
